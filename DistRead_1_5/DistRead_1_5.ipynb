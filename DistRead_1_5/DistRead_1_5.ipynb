{
 "cells": [
  {
   "cell_type": "markdown",
   "metadata": {},
   "source": [
    "Distant Reading I: hacker les humanités\n",
    "\n",
    "# Algorithmique 1\n",
    "\n",
    "Simon Gabay\n",
    "\n",
    "Genève\n",
    "\n",
    "<a rel=\"license\" href=\"http://creativecommons.org/licenses/by/4.0/\"><img alt=\"Licence Creative Commons\" style=\"border-width:0;float:right;\" src=\"https://i.creativecommons.org/l/by/4.0/88x31.png\" /></a><br />This work is licensed under a <a rel=\"license\" href=\"http://creativecommons.org/licenses/by/4.0/\">Creative Commons Attribution 4.0 International Licence</a>."
   ]
  },
  {
   "cell_type": "markdown",
   "metadata": {},
   "source": [
    "# 0. Avant toute chose\n",
    "---\n",
    "## 0.1 Un peu de vocabulaire\n",
    "\n",
    "* _Programme_ (informatique): ensemble ordonné d'instructions destinées à être exécutées par un ordinateur.\n",
    "* _Instruction_ (informatique): action nécessaire que l'ordinateur doit effectuer avant de passer à l'instruction suivante.\n",
    "* _Langage_ (de programmation): notation conventionnelle destinée à formuler des algorithmes et produire des programmes informatiques qui les appliquent. D'une manière similaire à une langue naturelle, un langage de programmation est composé d'un alphabet, d'un vocabulaire, de règles de grammaire et de significations.\n",
    "* _Logiciel_ : ensemble de programmes et le jeu de données formant un tout pouvant être distribué et exécuté.\n",
    "* _Code source_ : un texte qui présente les instructions composant un programme sous une forme lisible, telles qu'elles ont été écrites dans un langage de programmation.\n",
    "* _Code_ (ou langage) machine: version du code source sous la forme d'une suite de bits qui est interprétée par le processeur d'un ordinateur exécutant un programme informatique.\n",
    "* _Compilateur_ : est un programme qui transforme un code source en un code machine.\n",
    "\n",
    "## 0.2 Algorithmique\n",
    "\n",
    "L'algorithmique est l'étude et la production de règles et techniques qui sont impliquées dans la définition et la conception d'algorithmes.\n",
    "\n",
    "Un algorithme est une suite finie et non ambiguë d’opérations ou d'instructions permettant de résoudre une classe de problèmes.\n",
    "\n",
    "En plus simple:\n",
    "\n",
    "> « Un algorithme, c’est tout simplement une façon de décrire dans ses moindres détails comment procéder pour faire quelque chose. Il se trouve que beaucoup d’actions mécaniques, toutes probablement, se prêtent bien à une telle décortication. Le but est d’évacuer la pensée du calcul, afin de le rendre exécutable par une machine numérique (ordinateur…). On ne travaille donc qu’avec un reflet numérique du système réel avec qui l’algorithme interagit. »\n",
    ">\n",
    ">Gérard Berry\n",
    "\n",
    "Nous exécutons tous des algorithmes au quotidien, le meilleur exemple est sans doute une recette de cuisine. La cuisine tend d'ailleurs à se mécaniser avec des robots du type Thermomix qui organisent la cuisson comme une succession d'étapes. Ainsi la recette du velouté de lentilles vertes:\n",
    "1. Mettre dans le bol l’échalote coupée en deux, les carottes coupées en tronçons. Mixer 10 sec / vitesse 5.\n",
    "2. Ajouter les lentilles rincées avec le reste des ingrédients sauf la crème, et programmer 35 mn / 100° / vitesse 1.\n",
    "3. A la sonnerie, rajouter la crème et mixer 1 mn / vitesse 10.\n",
    "4. Goûter et rectifier l’assaisonnement si nécessaire.\n",
    "5. Pour une touche plus gourmande, vous pouvez éventuellement ajouter des dés de lardons.\n",
    "\n",
    "L'addition est un algorithme que nous faisons sans nous en rendre compte. 18+32 est ainsi calculé de la manière suivante par la plupart des gens:\n",
    "```\n",
    "18+32\n",
    "(10+8)+(30+2) # Règle de notre système de numération\n",
    "10+8+30+2 # Associativité de l’addition\n",
    "10+30+8+2 # Commutativité de l’addition\n",
    "(10+30)+(8+2) #Associativité de l’addition\n",
    "40+10\n",
    "50\n",
    "```\n",
    "\n",
    "Notre objectif est donc d'arriver à faire une chose similaire, mais avec un ordinateur.\n",
    "\n",
    "## 0.3 Un programme\n",
    "\n",
    "### 0.3.1 Le code\n",
    "\n",
    "Un programme a un début et une fin, et il est fait d'instructions et de données, qui se lisent/s'exécutent du haut vers le bas\n",
    "\n",
    "```\n",
    "DEBUT\n",
    "\tinstruction données\n",
    "FIN\n",
    "```\n",
    "\n",
    "Par exemple\n",
    "```\n",
    "DEBUT\n",
    "\tecrire \"je suis un programme\"\n",
    "\tattendre 3000\n",
    "\tecrire \"qui aime prendre son temps\"\n",
    "FIN\n",
    "```\n",
    "Ce qui donne en python\n",
    "\n",
    "```python\n",
    "import time\n",
    "print(\"Je suis un programme\")\n",
    "time.sleep(3)\n",
    "print(\"qui aime prendre son temps\")\n",
    "```\n",
    "\n",
    "### 0.3.2 Langage et… langage\n",
    "Il existe une multitude de langage de plusieurs niveaux. Comme n'importe quel langage, il est possible de passer de l'un à l'autre. Ceux de bas niveaux sont souvent plus complexes à apprendre, mais aussi plus rapides, efficaces et légers\n",
    "\n",
    "Ainsi le code en python suivant\n",
    "\n",
    "```python\n",
    "def loop():\n",
    "    for i in range(10):\n",
    "        putc(65 + i)            # 65 is 'A'\n",
    "\n",
    "def main():\n",
    "    loop()\n",
    "\n",
    "```\n",
    "\n",
    "devient en x86-64\n",
    "\n",
    "```\n",
    "loop:\n",
    "        pushq   $0              # allocate stack space for \"i\"\n",
    "        pushq   %rbp            # save and setup frame pointer\n",
    "        movq    %rsp, %rbp\n",
    "        movq    $0, 8(%rbp)     # i = 0\n",
    "loop_1_while:\n",
    "        movq    $10, %rdx       # rax = 1 if i < 10 else 0\n",
    "        movq    8(%rbp), %rax\n",
    "        cmpq    %rdx, %rax\n",
    "        movq    $0, %rax\n",
    "        jnl     loop_3_less\n",
    "        incq    %rax\n",
    "loop_3_less:\n",
    "        cmpq    $0, %rax        # if bool is zero, break\n",
    "        jz      loop_2_break\n",
    "        movq    8(%rbp), %rdx   # 65 + i\n",
    "        movq    $65, %rax\n",
    "        addq    %rdx, %rax\n",
    "        pushq   %rax            # putc()\n",
    "        call    putc\n",
    "        addq    $8, %rsp\n",
    "        movq    $1, %rdx        # i = i + 1\n",
    "        movq    8(%rbp), %rax\n",
    "        addq    %rdx, %rax\n",
    "        movq    %rax, 8(%rbp)\n",
    "        jmp     loop_1_while\n",
    "loop_2_break:\n",
    "        popq    %rbp            # restore frame pointer\n",
    "        leaq    8(%rsp),%rsp    # deallocate stack space for \"i\"\n",
    "        ret                     # return to caller\n",
    "```\n",
    "\n",
    "Source: [https://github.com/benhoyt](https://github.com/benhoyt/pyast64/blob/master/forloop.p64)\n",
    "\n",
    "À la vue de ce code, est-il utile d'expliquer pourquoi nous apprendrons Python dans ce cours?\n",
    "\n",
    "### 0.3.3 Exécution du programme\n",
    "\n",
    "<img src=\"images/compilation.jpg\" style=\"float:right;\" width=\"50%\">\n",
    "\n",
    "(Source image: [https://www.emi.ac.ma](https://www.emi.ac.ma/ntounsi/COURS/LogBase/logicielsDeBase-2.html))\n",
    "\n",
    "Python, comme les autres langages, n'est pas compréhensible par une machine: il doit encore être transformé en fichier binaire, qui lui est exécuté par la machine.\n",
    "\n",
    "Un fichier binaire ressemble à cela.\n",
    "\n",
    "```xml\n",
    "504b 0304 1400 0800 0800 1a44 6f3e 0000\n",
    "0000 0000 0000 0000 0000 1400 0400 4d45\n",
    "5441 2d49 4e46 2f4d 414e 4946 4553 542e\n",
    "4d46 feca 0000 f34d cccb 4c4b 2d2e d10d\n",
    "4b2d 2ace cccf b352 30d4 33e0 e572 ce49\n",
    "2c2e d60d 482c c9b0 52d0 e3e5 f24d cccc\n",
    "d305 8b59 29e4 17a5 eb95 54e4 ea65 e615\n",
    "9724 e6e4 e885 0075 3b16 2567 64f2 72f1\n",
    "7201 0050 4b07 08a1 2738 594d 0000 004f\n",
    "0000 0050 4b03 040a 0000 0000 0060 8964\n",
    "3e00 0000 0000 0000 0000 0000 0004 0000\n",
    "006f 7267 2f50 4b03 040a 0000 0000 0060\n",
    "8964 3e00 0000 0000 0000 0000 0000 0008\n",
    "0000 006f 7267 2f74 786d 2f50 4b03 040a\n",
    "0000 0000 0060 8964 3e00 0000 0000 0000\n",
    "```\n",
    "\n",
    "Nous allons donc apprendre à afficher <i>Hello world</i>, comme dans le dessin ci-dessus."
   ]
  },
  {
   "cell_type": "markdown",
   "metadata": {},
   "source": [
    "## 1. Premiers pas en python\n",
    "Nous sommes ici dans un _Jupyter notebook_. C'est un outil très pratique pour apprendre à programmer, voire même à programmer tout court. Dans le bloc qui s'affiche juste en dessous, vous pouvez écrire et exécuter des programmes simples ou compliqués.\n",
    "Essayez par vous-même et tentez des opérations mathématiques simples (trois plus deux, quatre moins huit…) dans le bloc au-dessous, et cliquez sur _Run_ dans le menu:\n",
    "<img src=\"images/run.png\" width=\"60%\">\n"
   ]
  },
  {
   "cell_type": "code",
   "execution_count": null,
   "metadata": {},
   "outputs": [],
   "source": []
  },
  {
   "cell_type": "markdown",
   "metadata": {},
   "source": [
    "### 1.1 _Hello world_\n",
    "Tentons d'afficher le célèbre _<a href=\"https://fr.wikipedia.org/wiki/Hello_world\" target=\"_blank\">Hello world</a>_. En Python, cela se fait ainsi avec une fonction qui s'appelle `print()`:"
   ]
  },
  {
   "cell_type": "code",
   "execution_count": null,
   "metadata": {},
   "outputs": [],
   "source": [
    "print(\"Hello world\")"
   ]
  },
  {
   "cell_type": "markdown",
   "metadata": {},
   "source": [
    "* `print()` est une fonction _built-in_ (ou \"native\"), comme `ls` ou `cd` en bash. Elle existe déjà dans Python: quelqu'un a déjà pris la peine de définir ce qu'elle doit faire pour nous.\n",
    "* Cette fonction, comme son nom l'indique, permet d'afficher quelque chose (cf. le sens de _print_ en anglais), mais encore faut-il savoir quoi (affiche <i>ça</i>). Pour ce faire nous allons utiliser un _argument_ en suivant la syntaxe suivante:\n",
    "```python\n",
    "fonction(argument)\n",
    "```\n",
    "* Nous y reviendrons plus tard, mais _hello world_ est une chaîne de caractères (on parle de _string_ en anglais) et non, par exemple, un chiffre. Cette information est essentielle. Afin de la signaler, nous allons placer le contenu à afficher entre guillemets, d'où la forme finale:\n",
    "```python\n",
    "print(\"Hello world\")\n",
    "```\n",
    "Nous savons désormais afficher toutes sortes de choses: essayez dans le bloc en-dessous!"
   ]
  },
  {
   "cell_type": "code",
   "execution_count": null,
   "metadata": {},
   "outputs": [],
   "source": []
  },
  {
   "cell_type": "markdown",
   "metadata": {},
   "source": [
    "### 1.2 De l'aide\n",
    "Programmer n'est pas évident: il existe nombre de fonctions, d'arguments, etc. Afin de s'y retrouver, il existe\n",
    "* une documentation officielle (https://docs.python.org/fr/3/) avec des définitions précises pour les fonctions natives (https://docs.python.org/fr/3/library/functions.html#print)\n",
    "* une fonction `help()` qui permet de donner le manuel d'utilisation d'une fonction:"
   ]
  },
  {
   "cell_type": "code",
   "execution_count": null,
   "metadata": {},
   "outputs": [],
   "source": [
    "help(print)"
   ]
  },
  {
   "cell_type": "markdown",
   "metadata": {},
   "source": [
    "Tout cela peut paraître un peu cryptique, mais on s'habitue à le lire avec le temps."
   ]
  },
  {
   "cell_type": "markdown",
   "metadata": {},
   "source": [
    "### 1.3 De l'erreur\n",
    "Maîtriser ces fonctions ne nous empêche pas de commettre des erreurs lorsque nous prorammons: il y a un _bug_. Nous recevons alors un message indiquant la présence d'une erreur, avec quelques indices pour débuguer le programme. Par exemple, oublions de fermer les guillemets:"
   ]
  },
  {
   "cell_type": "code",
   "execution_count": null,
   "metadata": {},
   "outputs": [],
   "source": [
    "print(\"Hello world)"
   ]
  },
  {
   "cell_type": "markdown",
   "metadata": {},
   "source": [
    "On nous indique bien la ligne fautive (`line 1`), et la zone problématique est signalée par un pointeur (`^`). Un message `SyntaxError` décrit l'erreur, en l'occurrence un problème de syntaxe python: une fin de ligne ( _EOL_ , \"end of line\") lors de l'analyse de la chaîne de caractère ( _string literal_ ) qui aurait dû se terminer par un guillemet."
   ]
  },
  {
   "cell_type": "code",
   "execution_count": null,
   "metadata": {},
   "outputs": [],
   "source": [
    "print(Hello)"
   ]
  },
  {
   "cell_type": "markdown",
   "metadata": {},
   "source": [
    "On nous indique à nouveau bien la ligne fautive (`line 1`), et la zone problématique est signalée par un pointeur (`^`). Un autre message s'affiche: ce n'est plus `SyntaxError` mais `NameError`, qui nous indique que `'Hello'` n'est pas défini. Kézaco? Il s'agit d'une variable"
   ]
  },
  {
   "cell_type": "markdown",
   "metadata": {},
   "source": [
    "## 2. Les variables\n",
    "### 2.1 Données externes\n",
    "\n",
    "\n",
    "<img src=\"images/database.png\" style=\"float:right;\" width=\"40%\">\n",
    "\n",
    "(Source image: J. Pilla)\n",
    "\n",
    "La plupart des programmes interagissent avec des données externes, souvent sous la forme de base de données.\n",
    "\n",
    "* L'utilisateur entre des données, pour créer son compte personnel par exemple\n",
    "* Le site en propose aussi: affichage de textes, de mots, d'horaires de train…\n",
    "\n",
    "On parle souvent de base de données relationnelles (type SQL), de plus en plus de  <a href=\"https://fr.wikipedia.org/wiki/Base_de_donn%C3%A9es_orient%C3%A9e_graphe\" target=\"_blank\">base de données orientée graphe</a>, voire de données XML pour l'édition de texte.\n",
    "\n",
    "\n",
    "### 2.2 Données internes\n",
    "\n",
    "Pour fonctionner, un programme n'a pas recours uniquement à des données externes, mais aussi à des données internes.\n",
    "\n",
    "Elles sont stockées dans une structure de données propre au langage de programmation utilisé. En python, il s'agit de:\n",
    "\n",
    "* liste\n",
    "* tuple\n",
    "* dictionnaire\n",
    "\n",
    "Nous y reviendrons!\n",
    "\n",
    "### 2.3 Variable\n",
    "\n",
    "(Source image: <a href=\"https://developer.mozilla.org/en-US/docs/Learn/JavaScript/First_steps/Variables\" target=\"_blank\">https://developer.mozilla.org</a>)\n",
    "\n",
    "<img src=\"images/variable.jpg\" style=\"float:right;\" width=\"40%\">\n",
    "\n",
    "Les données sont stockées physiquement à un endroit de l'ordinateur pour pouvoir être réutilisées plus tard.\n",
    "\n",
    "Ces données ont des adresses physiques (du type `0x45B0j`) qui seraient trop complexes à manier: on leur donne donc un nom. On parle de variable, c'est à dire la combinaison de:\n",
    "* Une étiquette, qui ne peut pas changer\n",
    "* Une valeur, qui peut changer (comme le type de la valeur)\n",
    "\n",
    "Il existe un nombre presque infini de variables.\n",
    "\n",
    "\n",
    "### 2.4 Assigner une valeur\n",
    "Dans l'exemple précédent, nous avons fait appel à une variable du nom de _Hello_ que nous n'avons pas définie au préalable. Pour cela nous devons donc:\n",
    "1. Définir une variable\n",
    "```python\n",
    "nomDeMaVariable\n",
    "```\n",
    "2. Lui assigner une valeur\n",
    "```python\n",
    "nomDeMaVariable=\"valeur\"\n",
    "```\n",
    "3. Appeler cette variable\n",
    "```python\n",
    "nomDeMaVariable=\"valeur\"\n",
    "print(nomDeMaVariable)\n",
    "```\n",
    "Soit, par exemple, le code suivant:"
   ]
  },
  {
   "cell_type": "code",
   "execution_count": null,
   "metadata": {},
   "outputs": [],
   "source": [
    "Hello=\"Hello world\"\n",
    "print(Hello)"
   ]
  },
  {
   "cell_type": "markdown",
   "metadata": {},
   "source": [
    "Le même code qui nous donnait une erreur fonctionne!\n",
    "### 2.5 Nommer sa variable: _Dont's_\n",
    "Il existe des règles strictes et des recommandations pour nommer ses variables. Commençons par les _don'ts_ :\n",
    "1. Une variable commence par une lettre ou un underscore (`_`)\n",
    "2. Corollaire logique: une variable ne commence pas par autre chose, comme un chiffre, un tiret (`-`) ou une espace (` `)"
   ]
  },
  {
   "cell_type": "code",
   "execution_count": null,
   "metadata": {},
   "outputs": [],
   "source": [
    "une_bonne_variable=\"ça c'est bien\"\n",
    "print(une_bonne_variable)"
   ]
  },
  {
   "cell_type": "code",
   "execution_count": null,
   "metadata": {},
   "outputs": [],
   "source": [
    "1_mauvaise_variable=\"ça c'est pas bien\"\n",
    "print(1_mauvaise_variable)"
   ]
  },
  {
   "cell_type": "markdown",
   "metadata": {},
   "source": [
    "3. Une variable ne peut contenir que des caractères alphanumériques (en regex `[a-z0-9]`) ou un underscore (`_`)\n",
    "4. Corollaire logique: une variable ne contient pas autre chose, comme un tiret (`-`) ou une espace (` `)"
   ]
  },
  {
   "cell_type": "code",
   "execution_count": null,
   "metadata": {},
   "outputs": [],
   "source": [
    "c_1_bonne_variable=\"ça c'est bien\"\n",
    "print(c_1_bonne_variable)"
   ]
  },
  {
   "cell_type": "code",
   "execution_count": null,
   "metadata": {},
   "outputs": [],
   "source": [
    "c-1-bonne-variable=\"ça c'est pas bien\"\n",
    "print(c-1-bonne-variable)"
   ]
  },
  {
   "cell_type": "markdown",
   "metadata": {},
   "source": [
    "5. Les lettres peuvent être à choix majuscules ou minuscules (précisons la regex: `[a-zA-Z0-9_]`), mais attention: python est sensible à la casse ( _case sensitive_ ): `mavariable`≠`maVariable`"
   ]
  },
  {
   "cell_type": "code",
   "execution_count": null,
   "metadata": {},
   "outputs": [],
   "source": [
    "uneBonneVariable=\"ça c'est bien\"\n",
    "print(uneBonneVariable)"
   ]
  },
  {
   "cell_type": "code",
   "execution_count": null,
   "metadata": {},
   "outputs": [],
   "source": [
    "uneBonneVariable=\"ça c'est pas bien\"\n",
    "print(unebonnevariable)"
   ]
  },
  {
   "cell_type": "markdown",
   "metadata": {},
   "source": [
    "6. Il ne faut pas utiliser de mot réservé, c'est à dire un mot utilisé par le langage python (`if`, `for`, etc.). Notons qu'il est possible de trouver la liste des mots réservés de la manière suivante:"
   ]
  },
  {
   "cell_type": "code",
   "execution_count": null,
   "metadata": {},
   "outputs": [],
   "source": [
    "import keyword\n",
    "print(keyword.kwlist)"
   ]
  },
  {
   "cell_type": "markdown",
   "metadata": {},
   "source": [
    "7. De la même manière il ne faut pas utiliser le nom d'une fonction (native ou non), car sinon la fonction est remplacée par la variable et devient inutilisable"
   ]
  },
  {
   "cell_type": "code",
   "execution_count": null,
   "metadata": {},
   "outputs": [],
   "source": [
    "#Je nomme ma variable avec le nom d'une fonction native\n",
    "help = \"c'est mal\" \n",
    "# J'appelle la fonction que je viens de redéfinir en variable\n",
    "help(print)"
   ]
  },
  {
   "cell_type": "markdown",
   "metadata": {},
   "source": [
    "On note au passage que le code a été commenté. Comme en bash, nous avons placé un `#` qui permet de soustraire ce qui est écrit après lors de l'exécution. C'est une bonne pratique pour le développement, car il permet d'expliciter ce que l'on fait, pour soi-même comme pour les autres."
   ]
  },
  {
   "cell_type": "markdown",
   "metadata": {},
   "source": [
    "8. Il est très fortement recommandé de ne pas utiliser d'accent ou de diacritique de ce genre, même si ce n'est théoriquement pas un problème"
   ]
  },
  {
   "cell_type": "code",
   "execution_count": null,
   "metadata": {},
   "outputs": [],
   "source": [
    "variable_à_éviter=\"ça ce n'est pas mal, mais pas vraiment bien non plus\"\n",
    "print(variable_à_éviter)"
   ]
  },
  {
   "cell_type": "markdown",
   "metadata": {},
   "source": [
    "### 2.6 Nommer sa variable: _Do's_\n",
    "Comme nous l'avons précédemment vu pour les noms de fichiers, il existe deux grandes options pour nommer une variable:\n",
    "1. Le _snake case_"
   ]
  },
  {
   "cell_type": "code",
   "execution_count": null,
   "metadata": {},
   "outputs": [],
   "source": [
    "variable_snake_case=\"j'emploi des underscores pour éviter la scripta continua\"\n",
    "print(variable_snake_case)"
   ]
  },
  {
   "cell_type": "markdown",
   "metadata": {},
   "source": [
    "2. Le _camel case_"
   ]
  },
  {
   "cell_type": "code",
   "execution_count": null,
   "metadata": {},
   "outputs": [],
   "source": [
    "variableCamelCase=\"j'emploi des majuscules pour éviter la scripta continua\"\n",
    "print(variableCamelCase)"
   ]
  },
  {
   "cell_type": "markdown",
   "metadata": {},
   "source": [
    "### 2.6 Nommer sa variable: _one more thing_\n",
    "Il est possible d'affecter des données de différents types à une même variable. Ainsi:"
   ]
  },
  {
   "cell_type": "code",
   "execution_count": null,
   "metadata": {},
   "outputs": [],
   "source": [
    "mon_nom=\"Simon\"\n",
    "mon_nom"
   ]
  },
  {
   "cell_type": "markdown",
   "metadata": {},
   "source": [
    "Peut devenir:"
   ]
  },
  {
   "cell_type": "code",
   "execution_count": null,
   "metadata": {},
   "outputs": [],
   "source": [
    "mon_nom=\"abcde\"\n",
    "mon_nom"
   ]
  },
  {
   "cell_type": "markdown",
   "metadata": {},
   "source": [
    "Ou encore un nombre:"
   ]
  },
  {
   "cell_type": "code",
   "execution_count": null,
   "metadata": {},
   "outputs": [],
   "source": [
    "mon_nom=12345\n",
    "mon_nom"
   ]
  },
  {
   "cell_type": "markdown",
   "metadata": {},
   "source": [
    "Ou encore un booléen, soit un choix entre deux valeurs, _True_ ou _False_"
   ]
  },
  {
   "cell_type": "code",
   "execution_count": null,
   "metadata": {},
   "outputs": [],
   "source": [
    "mon_nom=\"True\"\n",
    "mon_nom"
   ]
  },
  {
   "cell_type": "markdown",
   "metadata": {},
   "source": [
    "Comme on le voit, si c'est possible cela n'est pas recommandé, car le nom de la variable est déconnecté de sa valeur."
   ]
  },
  {
   "cell_type": "markdown",
   "metadata": {},
   "source": [
    "# 3. Des chiffres et des lettres\n",
    "\n",
    "## 3.1 Manipuler une chaîne de caractère\n",
    "Il est possible d'assigner une valeur à une variable"
   ]
  },
  {
   "cell_type": "code",
   "execution_count": null,
   "metadata": {},
   "outputs": [],
   "source": [
    "variable1=\"Jean-Baptiste n'aime pas Star Wars 8\"\n",
    "print(variable1)"
   ]
  },
  {
   "cell_type": "markdown",
   "metadata": {},
   "source": [
    "Il est possible d'assigner comme valeur une autre variable:"
   ]
  },
  {
   "cell_type": "code",
   "execution_count": null,
   "metadata": {},
   "outputs": [],
   "source": [
    "variable1=\"Jean-Baptiste n'aime pas Star Wars 8\"\n",
    "variable2=variable1\n",
    "print(variable2)"
   ]
  },
  {
   "cell_type": "markdown",
   "metadata": {},
   "source": [
    "Il est possible d'avoir recours à plusieurs variables que l'on concatène"
   ]
  },
  {
   "cell_type": "code",
   "execution_count": null,
   "metadata": {},
   "outputs": [],
   "source": [
    "nom=\"Jean-Baptiste\"\n",
    "film=\"Star Wars 8\"\n",
    "print(nom+\" n'aime pas \"+film)"
   ]
  },
  {
   "cell_type": "markdown",
   "metadata": {},
   "source": [
    "Il est possible d'accéder à une chacune des lettres ou un groupe de lettres d'une chaîne de caractère en appelant sa position\n",
    "```python\n",
    "ma_variable[1]\n",
    "```"
   ]
  },
  {
   "cell_type": "code",
   "execution_count": null,
   "metadata": {},
   "outputs": [],
   "source": [
    "film=\"Star Wars 8\"\n",
    "premiere_lettre = film[0]\n",
    "print(premiere_lettre)\n",
    "deuxieme_lettre = film[1]\n",
    "print(deuxieme_lettre)"
   ]
  },
  {
   "cell_type": "markdown",
   "metadata": {},
   "source": [
    "Notons que la première position est `0` ce qui peut paraître étrange: python indexe en effet à partir de zéro, d'autres langages à partir de `1`."
   ]
  },
  {
   "cell_type": "markdown",
   "metadata": {},
   "source": [
    "Il est aussi possible de sélectionner une tranche (_slice_ en anglais) avec le signe `:` pour indiquer que l'on va de tel caractère à tel autre (non inclus)\n",
    "```python\n",
    "ma_variable[1:2]\n",
    "```"
   ]
  },
  {
   "cell_type": "code",
   "execution_count": null,
   "metadata": {},
   "outputs": [],
   "source": [
    "film=\"Star Wars 8\"\n",
    "une_tranche = film[0:4]\n",
    "print(une_tranche)"
   ]
  },
  {
   "cell_type": "markdown",
   "metadata": {},
   "source": [
    "Il est possible de partir depuis la fin de la chaîne de caractère en utilisant le signe `-` (cette fois nous partons de 1 et non de 0)\n",
    "```python\n",
    "ma_variable[-1]\n",
    "```"
   ]
  },
  {
   "cell_type": "code",
   "execution_count": null,
   "metadata": {},
   "outputs": [],
   "source": [
    "film=\"Star Wars 8\"\n",
    "derniere_lettre = film[-1]\n",
    "print(derniere_lettre)"
   ]
  },
  {
   "cell_type": "markdown",
   "metadata": {},
   "source": [
    "Pour résumer en une image tout cela:\n",
    "![100% center](images/string-slicing.png)\n",
    "Source: [https://www.nltk.org](https://www.nltk.org/book/ch03.html)"
   ]
  },
  {
   "cell_type": "markdown",
   "metadata": {},
   "source": [
    "## 3.2 _String_ et _int_\n",
    "Python permet de faire des opérations mathématiques simples, par exemple en additionnant des chiffres avec le signe `+`"
   ]
  },
  {
   "cell_type": "code",
   "execution_count": null,
   "metadata": {},
   "outputs": [],
   "source": [
    "2+2"
   ]
  },
  {
   "cell_type": "markdown",
   "metadata": {},
   "source": [
    "Il devrait donc être possible d'additioner le numéro du _Star Wars_ contenu dans les variables suivantes en les récupérants via l'index, comme nous venons de le voir:\n",
    "```python\n",
    "premier_film=\"Star Wars 8\"\n",
    "second_film=\"Star Wars 12\"\n",
    "```\n",
    "Essayez:"
   ]
  },
  {
   "cell_type": "code",
   "execution_count": null,
   "metadata": {},
   "outputs": [],
   "source": []
  },
  {
   "cell_type": "markdown",
   "metadata": {},
   "source": [
    "Qu'est-ce qu'il se passe? Pouvez-vous l'expliquer?\n",
    "Passons le numéro de `premier_film` dans une variable spécifique et observons quel type d'objet c'est avec la fonction `type()`:"
   ]
  },
  {
   "cell_type": "code",
   "execution_count": null,
   "metadata": {},
   "outputs": [],
   "source": [
    "numero=premier_film[-1]\n",
    "type(numero)"
   ]
  },
  {
   "cell_type": "markdown",
   "metadata": {},
   "source": [
    "Il s'agit d'une chaîne de caractère: dans ce cas le signe `+` revient à accoler à la suite les différents objets de l'addition"
   ]
  },
  {
   "cell_type": "code",
   "execution_count": null,
   "metadata": {},
   "outputs": [],
   "source": [
    "var_1=\"a\"\n",
    "var_2=\"b\"\n",
    "var_1+var_2"
   ]
  },
  {
   "cell_type": "markdown",
   "metadata": {},
   "source": [
    "Il en va de même pour les chiffres s'ils sont placés entre guillemets, car `1` est alors considéré comme un simple caractère et non comme un chiffre"
   ]
  },
  {
   "cell_type": "code",
   "execution_count": null,
   "metadata": {},
   "outputs": [],
   "source": [
    "var_1=\"1\"\n",
    "var_2=\"2\"\n",
    "var_1+var_2"
   ]
  },
  {
   "cell_type": "markdown",
   "metadata": {},
   "source": [
    "Si l'on veut que `1` soit un chiffres, il faut retirer les guillemets:"
   ]
  },
  {
   "cell_type": "code",
   "execution_count": null,
   "metadata": {},
   "outputs": [],
   "source": [
    "var_1=1\n",
    "var_2=2\n",
    "var_1+var_2"
   ]
  },
  {
   "cell_type": "markdown",
   "metadata": {},
   "source": [
    "En effet le type d'objet n'est pas le même. Le premier est un caractère"
   ]
  },
  {
   "cell_type": "code",
   "execution_count": null,
   "metadata": {},
   "outputs": [],
   "source": [
    "var_1=\"1\"\n",
    "type(var_1)"
   ]
  },
  {
   "cell_type": "markdown",
   "metadata": {},
   "source": [
    "Le second est un intégral"
   ]
  },
  {
   "cell_type": "code",
   "execution_count": null,
   "metadata": {},
   "outputs": [],
   "source": [
    "var_2=2\n",
    "type(var_2)"
   ]
  },
  {
   "cell_type": "markdown",
   "metadata": {},
   "source": [
    "## 3.3 Les objets\n",
    "Il existe quatre sortes d'objets différents:\n",
    "1. Les caractères:"
   ]
  },
  {
   "cell_type": "code",
   "execution_count": null,
   "metadata": {},
   "outputs": [],
   "source": [
    "variable=\"abc\"\n",
    "type(variable)"
   ]
  },
  {
   "cell_type": "markdown",
   "metadata": {},
   "source": [
    "2. Les booléens (vrai ou faux):"
   ]
  },
  {
   "cell_type": "code",
   "execution_count": null,
   "metadata": {},
   "outputs": [],
   "source": [
    "variable=False\n",
    "type(variable)"
   ]
  },
  {
   "cell_type": "markdown",
   "metadata": {},
   "source": [
    "3. Les entiers:"
   ]
  },
  {
   "cell_type": "code",
   "execution_count": null,
   "metadata": {},
   "outputs": [],
   "source": [
    "variable=3\n",
    "type(variable)"
   ]
  },
  {
   "cell_type": "markdown",
   "metadata": {},
   "source": [
    "4. Les décimaux ou flottants (c'est-à-dire avec un nombre avec une virgule)"
   ]
  },
  {
   "cell_type": "code",
   "execution_count": null,
   "metadata": {},
   "outputs": [],
   "source": [
    "variable=3.1\n",
    "type(variable)"
   ]
  },
  {
   "cell_type": "markdown",
   "metadata": {},
   "source": [
    "## 3.4 Les conversions\n",
    "Il est possible de convertir le type de données."
   ]
  },
  {
   "cell_type": "code",
   "execution_count": null,
   "metadata": {},
   "outputs": [],
   "source": [
    "nombre=\"8\"\n",
    "nombre_type=type(numero)\n",
    "print(nombre + \" est un \" + str(nombre_type))"
   ]
  },
  {
   "cell_type": "markdown",
   "metadata": {},
   "source": [
    "Je peux convertir un chiffre en caractère"
   ]
  },
  {
   "cell_type": "code",
   "execution_count": null,
   "metadata": {},
   "outputs": [],
   "source": [
    "nombre_en_integral=int(nombre)\n",
    "#Je conserve le type dans une variable\n",
    "nombre_newtype=type(nombre_en_integral)\n",
    "#J'affiche les résultats\n",
    "print(str(nombre_en_integral) + \" est bien un \" + str(nombre_newtype) +\n",
    "     \" alors que \" + str(nombre) + \" est un \" + str(nombre_type))"
   ]
  },
  {
   "cell_type": "markdown",
   "metadata": {},
   "source": [
    "Ce changement obéit néanmoins à des règles. Ainsi, je ne peux pas faire l'inverse et convertir un caractère en entier avec la fonction `int()`"
   ]
  },
  {
   "cell_type": "code",
   "execution_count": null,
   "metadata": {},
   "outputs": [],
   "source": [
    "lettre=\"a\"\n",
    "int(lettre)"
   ]
  },
  {
   "cell_type": "markdown",
   "metadata": {},
   "source": [
    "Mais je peux convertir un flottant en entier avec `int()` (en revanche ce qui se trouve derrière la virgule est perdu)"
   ]
  },
  {
   "cell_type": "code",
   "execution_count": null,
   "metadata": {},
   "outputs": [],
   "source": [
    "flottant=1.2\n",
    "flottant_en_entier=int(flottant)\n",
    "flottant_en_entier"
   ]
  },
  {
   "cell_type": "markdown",
   "metadata": {},
   "source": [
    "Je peux convertir une lettre en booléen avec la fonction (`bool()`)"
   ]
  },
  {
   "cell_type": "code",
   "execution_count": null,
   "metadata": {},
   "outputs": [],
   "source": [
    "caractere=\"a\"\n",
    "caractere_en_booleen=bool(caractere)\n",
    "caractere_en_booleen"
   ]
  },
  {
   "cell_type": "markdown",
   "metadata": {},
   "source": [
    "Je peux aussi convertir un entier en booléen"
   ]
  },
  {
   "cell_type": "code",
   "execution_count": null,
   "metadata": {},
   "outputs": [],
   "source": [
    "nombre=1\n",
    "nombre_en_booleen=bool(nombre)\n",
    "nombre_en_booleen"
   ]
  },
  {
   "cell_type": "markdown",
   "metadata": {},
   "source": [
    "Mais attention! Il existe un piège:"
   ]
  },
  {
   "cell_type": "code",
   "execution_count": null,
   "metadata": {},
   "outputs": [],
   "source": [
    "nombre=0\n",
    "nombre_en_booleen=bool(nombre)\n",
    "nombre_en_booleen"
   ]
  },
  {
   "cell_type": "markdown",
   "metadata": {},
   "source": [
    "Je peux enfin convertir un entier en flottant avec `float()` (on ajoute alors `.0` à la fin)"
   ]
  },
  {
   "cell_type": "code",
   "execution_count": null,
   "metadata": {},
   "outputs": [],
   "source": [
    "entier=4\n",
    "entier_en_flottant=float(entier)\n",
    "entier_en_flottant"
   ]
  },
  {
   "cell_type": "markdown",
   "metadata": {},
   "source": [
    "## Exercice\n",
    "1. Créez une variable avec votre nom\n",
    "2. Créez une variable avec votre prénom\n",
    "3. Créez une variable avec votre date de naissance\n",
    "4. Contrôlez le type de chacune de ces variables\n",
    "4. Affichez le contenu de ces variables sous la forme: \"UNTEL est né à TELLE DATE\"\n",
    "5. Fabriquez un pseudo avec votre nom et la première lettre du prénom et affichez: \"votre pseudo est PSEUDO\"\n",
    "_\n",
    "\n",
    "\n",
    "_\n",
    "\n",
    "_\n",
    "\n",
    "_\n",
    "\n",
    "_\n",
    "\n",
    "_\n",
    "\n",
    "_\n",
    "\n",
    "_\n",
    "\n",
    "_\n",
    "\n",
    "_\n",
    "\n",
    "_\n",
    "\n",
    "_\n",
    "\n",
    "_\n",
    "\n",
    "Solution:"
   ]
  },
  {
   "cell_type": "code",
   "execution_count": null,
   "metadata": {},
   "outputs": [],
   "source": [
    "prenom=\"Simon\"\n",
    "nom=\"Gabay\"\n",
    "date_de_naissance=1984"
   ]
  },
  {
   "cell_type": "code",
   "execution_count": null,
   "metadata": {},
   "outputs": [],
   "source": [
    "print(\"prenom est de classe \" + str(type(prenom)),\n",
    "      \"nom est de classe \" + str(type(nom)),\n",
    "      \"date_de_naissance est de classe \" + str(type(date_de_naissance)),\n",
    "     sep=\"\\n\")"
   ]
  },
  {
   "cell_type": "code",
   "execution_count": null,
   "metadata": {},
   "outputs": [],
   "source": [
    "print(prenom + \" \" + nom + \" est né en \" + str(date_de_naissance))"
   ]
  },
  {
   "cell_type": "code",
   "execution_count": null,
   "metadata": {},
   "outputs": [],
   "source": [
    "pseudo=nom+prenom[0]\n",
    "print(\"votre pseudo est \" + pseudo)"
   ]
  },
  {
   "cell_type": "code",
   "execution_count": null,
   "metadata": {},
   "outputs": [],
   "source": []
  }
 ],
 "metadata": {
  "kernelspec": {
   "display_name": "Python 3",
   "language": "python",
   "name": "python3"
  },
  "language_info": {
   "codemirror_mode": {
    "name": "ipython",
    "version": 3
   },
   "file_extension": ".py",
   "mimetype": "text/x-python",
   "name": "python",
   "nbconvert_exporter": "python",
   "pygments_lexer": "ipython3",
   "version": "3.7.1"
  }
 },
 "nbformat": 4,
 "nbformat_minor": 2
}
