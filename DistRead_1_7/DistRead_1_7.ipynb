{
 "cells": [
  {
   "cell_type": "markdown",
   "metadata": {},
   "source": [
    "Distant Reading I: hacker les humanités\n",
    "\n",
    "# Algorithmique 3\n",
    "\n",
    "Simon Gabay\n",
    "\n",
    "Genève\n",
    "\n",
    "<a rel=\"license\" href=\"http://creativecommons.org/licenses/by/4.0/\"><img alt=\"Licence Creative Commons\" style=\"border-width:0;float:right;\" src=\"https://i.creativecommons.org/l/by/4.0/88x31.png\" /></a><br />This work is licensed under a <a rel=\"license\" href=\"http://creativecommons.org/licenses/by/4.0/\">Creative Commons Attribution 4.0 International Licence</a>."
   ]
  },
  {
   "cell_type": "markdown",
   "metadata": {},
   "source": [
    "# 1. Encore quelques types\n",
    "## 1.1 Liste\n",
    "## 1.1.1 Bases\n",
    "Une liste se présente entre crochets `[]`: elle est alors vide. Chacun des éléments qui la constituent sont alors séparés par des virgules"
   ]
  },
  {
   "cell_type": "code",
   "execution_count": null,
   "metadata": {},
   "outputs": [],
   "source": [
    "uneListe=[1,2,3,4,5,6]\n",
    "print(uneListe)"
   ]
  },
  {
   "cell_type": "markdown",
   "metadata": {},
   "source": [
    "Les valeurs sont indéxées: nous pouvons donc les récupérer avec une valeur d'index"
   ]
  },
  {
   "cell_type": "code",
   "execution_count": null,
   "metadata": {},
   "outputs": [],
   "source": [
    "uneListe=[1,2,3,4,5,6]\n",
    "print(uneListe[2])"
   ]
  },
  {
   "cell_type": "markdown",
   "metadata": {},
   "source": [
    "Question: quelle est la valeur de départ pour l'indexation en python?\n",
    "Sélectionnez:\n",
    "* Les trois premiers éléments de la liste\n",
    "* Les éléments entre 2 et 4\n",
    "* Les trois derniers"
   ]
  },
  {
   "cell_type": "code",
   "execution_count": null,
   "metadata": {},
   "outputs": [],
   "source": []
  },
  {
   "cell_type": "markdown",
   "metadata": {},
   "source": [
    "Une liste peu contenir plusieurs types de valeurs:"
   ]
  },
  {
   "cell_type": "code",
   "execution_count": null,
   "metadata": {},
   "outputs": [],
   "source": [
    "uneListe=[1,\"choucroute\",3+2]\n",
    "print(uneListe)"
   ]
  },
  {
   "cell_type": "markdown",
   "metadata": {},
   "source": [
    "Y compris une autre liste"
   ]
  },
  {
   "cell_type": "code",
   "execution_count": null,
   "metadata": {},
   "outputs": [],
   "source": [
    "uneListe=[1,\"choucroute\",3+2,[\"a\", 2, \"re-choucroute\"]]\n",
    "print(uneListe)"
   ]
  },
  {
   "cell_type": "markdown",
   "metadata": {},
   "source": [
    "Une liste est itérable. Nous pouvons donc, comme nous l'avons vu précédemment, boucler sur la liste pour en afficher le contenu un à un:"
   ]
  },
  {
   "cell_type": "code",
   "execution_count": null,
   "metadata": {},
   "outputs": [],
   "source": [
    "uneListe=[1,2,3,4,5,6]\n",
    "for element in uneListe:\n",
    "    print(element)"
   ]
  },
  {
   "cell_type": "markdown",
   "metadata": {},
   "source": [
    "Il est donc possible de \"remplir\" la liste en itérant:"
   ]
  },
  {
   "cell_type": "code",
   "execution_count": null,
   "metadata": {},
   "outputs": [],
   "source": [
    "uneListe=[] # Je prépare une liste vide. Alternative: uneListe=list()\n",
    "print(\"Ma liste de départ: \"+ str(uneListe))\n",
    "for lettre in \"Hello World!\":\n",
    "    uneListe.append(lettre)\n",
    "print(\"Ma liste finale: \"+ str(uneListe))"
   ]
  },
  {
   "cell_type": "markdown",
   "metadata": {},
   "source": [
    "## 1.1.2 Méthode de liste\n",
    "Les listes ont des fonctions et méthodes qui leur sont associées.\n",
    "\n",
    "`list.append(x)` : ajouter un élément à la fin de la liste"
   ]
  },
  {
   "cell_type": "code",
   "execution_count": null,
   "metadata": {},
   "outputs": [],
   "source": [
    "uneListe=[]\n",
    "uneListe.append(\"a\")\n",
    "print(uneListe)"
   ]
  },
  {
   "cell_type": "code",
   "execution_count": null,
   "metadata": {},
   "outputs": [],
   "source": [
    "uneListe.append(\"b\")\n",
    "uneListe.append(\"c\")\n",
    "print(uneListe)"
   ]
  },
  {
   "cell_type": "markdown",
   "metadata": {},
   "source": [
    "`list.pop({index})` : supprimer un élément de la liste à partir de son index (le récupérer en mémoire)"
   ]
  },
  {
   "cell_type": "code",
   "execution_count": null,
   "metadata": {},
   "outputs": [],
   "source": [
    "uneListe.pop(-1)\n",
    "print(uneListe)"
   ]
  },
  {
   "cell_type": "markdown",
   "metadata": {},
   "source": [
    "`list.remove(x)` : supprimer de la liste la première occurrence de l'élément recherché"
   ]
  },
  {
   "cell_type": "code",
   "execution_count": null,
   "metadata": {},
   "outputs": [],
   "source": [
    "uneListe.remove(\"a\")\n",
    "print(uneListe)"
   ]
  },
  {
   "cell_type": "markdown",
   "metadata": {},
   "source": [
    "`list.index(x)` : renvoyer l'index de la première occurrence de l'élément recherché"
   ]
  },
  {
   "cell_type": "code",
   "execution_count": null,
   "metadata": {},
   "outputs": [],
   "source": [
    "print(uneListe.index(\"b\"))"
   ]
  },
  {
   "cell_type": "markdown",
   "metadata": {},
   "source": [
    "`list.count(x)` : compter le nombre d'occurrence de l'élément recherché dans la liste"
   ]
  },
  {
   "cell_type": "code",
   "execution_count": null,
   "metadata": {},
   "outputs": [],
   "source": [
    "uneListe.count(\"b\")"
   ]
  },
  {
   "cell_type": "markdown",
   "metadata": {},
   "source": [
    "`list.sort()` : trier la liste selon un ensemble de règles, par exemple l'ordre de grandeur"
   ]
  },
  {
   "cell_type": "code",
   "execution_count": null,
   "metadata": {},
   "outputs": [],
   "source": [
    "import random # J'importe la bibliothèque random\n",
    "uneAutreListe=[]\n",
    "uneAutreListe=random.sample(range(1, 100), 12)#Je crée des valeurs aléatoires\n",
    "print(uneAutreListe)\n",
    "uneAutreListe.sort()# Je trie\n",
    "print(uneAutreListe)"
   ]
  },
  {
   "cell_type": "markdown",
   "metadata": {},
   "source": [
    "## 1.2 Dictionnaire\n",
    "## 1.2.1 Bases\n",
    "🔑 Les dictionnaires sont un type de variable constitués de paire clef (_key_) / valeur (_value_)."
   ]
  },
  {
   "cell_type": "code",
   "execution_count": null,
   "metadata": {},
   "outputs": [],
   "source": [
    "unDictionnaire={\"clef\":\"valeur\"}\n",
    "print(unDictionnaire)"
   ]
  },
  {
   "cell_type": "markdown",
   "metadata": {},
   "source": [
    "Comme les listes, les dictionnaires peuvent contenir différents types de valeur (y compris un autre dictionnaire, comme une liste peut contenir une autre liste)"
   ]
  },
  {
   "cell_type": "code",
   "execution_count": null,
   "metadata": {},
   "outputs": [],
   "source": [
    "unDictionnaire={\"Jean Dupont\":6, \"Madeleine Duchemol\":5.5}\n",
    "print(unDictionnaire)"
   ]
  },
  {
   "cell_type": "markdown",
   "metadata": {},
   "source": [
    "Si la valeur peut être plusieurs fois la même, la clef ne peut être répétée deux fois:"
   ]
  },
  {
   "cell_type": "code",
   "execution_count": null,
   "metadata": {},
   "outputs": [],
   "source": [
    "unDictionnaire={\"Jean Dupont\":6, \"Jean Dupont\":5.5}\n",
    "print(unDictionnaire)"
   ]
  },
  {
   "cell_type": "markdown",
   "metadata": {},
   "source": [
    "Expliquez ce qu'il vient de se passer.\n",
    "\n",
    "Il est possible d'ajouter des éléments à un dictionnaire:"
   ]
  },
  {
   "cell_type": "code",
   "execution_count": null,
   "metadata": {},
   "outputs": [],
   "source": [
    "unDictionnaire[\"Madeleine Duchemol\"]=5.5\n",
    "print(unDictionnaire)"
   ]
  },
  {
   "cell_type": "markdown",
   "metadata": {},
   "source": [
    "Le contenu d'un dictionnaire n'est pas indexé:"
   ]
  },
  {
   "cell_type": "code",
   "execution_count": null,
   "metadata": {},
   "outputs": [],
   "source": [
    "unDictionnaire[2]"
   ]
  },
  {
   "cell_type": "markdown",
   "metadata": {},
   "source": [
    "De la même manière, il n'est pas (vraiment) possible d'itérer sur un dictionnaire"
   ]
  },
  {
   "cell_type": "code",
   "execution_count": null,
   "metadata": {},
   "outputs": [],
   "source": [
    "for etudiant in etudiants:\n",
    "    print(etudiant)"
   ]
  },
  {
   "cell_type": "markdown",
   "metadata": {},
   "source": [
    "Commentez le résultat.\n",
    "\n",
    "Mais il est possible de \"tricher\" pour itérer"
   ]
  },
  {
   "cell_type": "code",
   "execution_count": null,
   "metadata": {},
   "outputs": [],
   "source": [
    "for etudiant in etudiants.items():\n",
    "    print(etudiant)"
   ]
  },
  {
   "cell_type": "markdown",
   "metadata": {},
   "source": [
    "## 1.2.2 Méthodes\n",
    "Nous venons de voir `dict.items()` : renvoie le contenu du dictionnaire sous la forme d'une liste de tuples -- nous allons revenir sur les tuples.\n",
    "\n",
    "`dict.keys()` permet de créer un objet itérable contenant la liste des clefs utilisées dans le dictionnaire"
   ]
  },
  {
   "cell_type": "code",
   "execution_count": null,
   "metadata": {},
   "outputs": [],
   "source": [
    "for etudiant in etudiants.keys():\n",
    "    print(etudiant)"
   ]
  },
  {
   "cell_type": "markdown",
   "metadata": {},
   "source": [
    "`dico.values()` permet de créer un obbjet itérable contenant la liste des valeurs contenues dans le dictionnaire"
   ]
  },
  {
   "cell_type": "code",
   "execution_count": null,
   "metadata": {},
   "outputs": [],
   "source": [
    "for etudiant in etudiants.values():\n",
    "    print(etudiant)"
   ]
  },
  {
   "cell_type": "markdown",
   "metadata": {},
   "source": [
    "`dico.get()` envoie la valeur associé à la clef recherchée"
   ]
  },
  {
   "cell_type": "code",
   "execution_count": null,
   "metadata": {},
   "outputs": [],
   "source": [
    "print(etudiants.get('Jean Dupont'))"
   ]
  },
  {
   "cell_type": "markdown",
   "metadata": {},
   "source": [
    " ou une valeur par défaut si la clef n'existe pas"
   ]
  },
  {
   "cell_type": "code",
   "execution_count": null,
   "metadata": {},
   "outputs": [],
   "source": [
    "print(etudiants.get('Madame Michu'))"
   ]
  },
  {
   "cell_type": "markdown",
   "metadata": {},
   "source": [
    "## 1.3.2 Tuples\n",
    "Un tuple se présente comme une liste, mais entre parenthèses et non entre crochets"
   ]
  },
  {
   "cell_type": "code",
   "execution_count": null,
   "metadata": {},
   "outputs": [],
   "source": [
    "monTuple=(\"a\",\"b\",\"c\")\n",
    "print(monTuple)"
   ]
  },
  {
   "cell_type": "markdown",
   "metadata": {},
   "source": [
    "La présence de parenthèses n'est cependant pas obligatoire pour définir le tuple"
   ]
  },
  {
   "cell_type": "code",
   "execution_count": null,
   "metadata": {},
   "outputs": [],
   "source": [
    "autreTuple=1,2,3,4\n",
    "print(autreTuple)"
   ]
  },
  {
   "cell_type": "markdown",
   "metadata": {},
   "source": [
    "Comme la liste, le tuple est indexé: on peut donc accéder à ses éléments à l'index"
   ]
  },
  {
   "cell_type": "code",
   "execution_count": null,
   "metadata": {},
   "outputs": [],
   "source": [
    "monTuple[1]"
   ]
  },
  {
   "cell_type": "markdown",
   "metadata": {},
   "source": [
    "En revanche, comme les chaines de caractères, les tuples sont dits imutables. On ne peut pas modifier l'une des valeurs stockées dans le tuple sans le modifer entièrement."
   ]
  },
  {
   "cell_type": "markdown",
   "metadata": {},
   "source": [
    "# 1. Les fonctions\n",
    "## 1.1 Premiers éléments\n",
    " Une fonction (ou function ) est une suite d'instructions que l'on peut appeler avec un nom. \n",
    "```\n",
    "Fonction HelloWorld() en Caractère\n",
    "Hello ← \"Hello World\"\n",
    "ecrire Hello\n",
    "Renvoyer Hello\n",
    "Fin\n",
    "```"
   ]
  },
  {
   "cell_type": "code",
   "execution_count": null,
   "metadata": {},
   "outputs": [],
   "source": [
    "# Ici je crée la fonction\n",
    "def birthday():\n",
    "    print(\"J'ai 35 ans!\")\n",
    "    return\n",
    "    \n",
    "# Ici j'appelle la fonction\n",
    "birthday()"
   ]
  },
  {
   "cell_type": "markdown",
   "metadata": {},
   "source": [
    "Notez que cette notation fonctionne aussi"
   ]
  },
  {
   "cell_type": "code",
   "execution_count": null,
   "metadata": {},
   "outputs": [],
   "source": [
    "def birthday():\n",
    "    print(\"J'ai 35 ans!\")\n",
    "\n",
    "birthday()"
   ]
  },
  {
   "cell_type": "markdown",
   "metadata": {},
   "source": [
    "Analysez ce résultat"
   ]
  },
  {
   "cell_type": "markdown",
   "metadata": {},
   "source": [
    "La valeur renvoyée par la fonction est stockable dans une variable"
   ]
  },
  {
   "cell_type": "code",
   "execution_count": null,
   "metadata": {},
   "outputs": [],
   "source": [
    "def birthday():\n",
    "    return 35\n",
    "\n",
    "tAsQuelAge=birthday()\n",
    "print(tAsQuelAge)"
   ]
  },
  {
   "cell_type": "markdown",
   "metadata": {},
   "source": [
    "## 1.2 Un argument\n",
    "Il est possible de passer un argument entre les parenthèses lorsque l'on appelle la fonction"
   ]
  },
  {
   "cell_type": "code",
   "execution_count": null,
   "metadata": {},
   "outputs": [],
   "source": [
    "def birthday(age):\n",
    "    return age+1\n",
    "\n",
    "birthday(35)"
   ]
  },
  {
   "cell_type": "markdown",
   "metadata": {},
   "source": [
    "Je peux utiliser une variable comme valeur de l'argument"
   ]
  },
  {
   "cell_type": "code",
   "execution_count": null,
   "metadata": {},
   "outputs": [],
   "source": [
    "def birthday(age):\n",
    "    return age+1\n",
    "\n",
    "monAge=35\n",
    "birthday(monAge)"
   ]
  },
  {
   "cell_type": "markdown",
   "metadata": {},
   "source": [
    "Attention! La variable utilisée comme argument dans la définition (ici `age` et non `monAge`) a un _scope_ limité: il n'existe que le temps de l'exécution de la fonction"
   ]
  },
  {
   "cell_type": "code",
   "execution_count": null,
   "metadata": {},
   "outputs": [],
   "source": [
    "def birthday(age):\n",
    "    return age+1\n",
    "\n",
    "monAge=35\n",
    "birthday(monAge)\n",
    "print(age)"
   ]
  },
  {
   "cell_type": "markdown",
   "metadata": {},
   "source": [
    "## 1.3 Quelques remarques\n",
    "### 1.3.1. Organisation du code\n",
    "La décision de créer une fonction dépend du développeur: il n'y a pas vraiment de règle. Il n'est cependant pas absurde de décider de créer une fonction dès lors qu'une même opération doit être répétée plusieurs fois dans un script un peu long, ou dans une autre script d'un même logiciel ou d'une même application.\n",
    "\n",
    "C'est cela un code propre: on minimise le nombre de lignes, et on centralise l'information si l'on doit opérer un changement.\n",
    "\n",
    "Les fonctions sont toujours placées en haut du script (ou dans un autre fichier). Un code simple serait donc le suivant:\n",
    "\n",
    "```\n",
    "Définition de la fonction 1\n",
    "Définition de la fonction 2\n",
    "\n",
    "Instruction A\n",
    "Appel de la fonction 2\n",
    "Instruction B\n",
    "Appel de la fonction 1\n",
    "Appel de la fonction 2\n",
    "Instruction C\n",
    "```\n",
    "\n",
    "Exercice:\n",
    "* Vous faites vos courses et achetez du papier toilette pour CHF 50,- et de du ketchup pour CHF 100,- HT. La TVA est de 5%: créez un script qui calcule le montant de vos achats.\n",
    "* Suite à de nouvelles élections et l'arrivée des communistes au pouvoir l'état est en faillite et la TVA passe à 50%. Refaites le même calcul.\n",
    "(le but est de faire une fonction utilisant deux arguments: le prix et le montant de la TVA)\n",
    "\n",
    "(La solution est à la fin du cours)"
   ]
  },
  {
   "cell_type": "markdown",
   "metadata": {},
   "source": [
    "### 1.3.2 Bibliotèques\n",
    "Il est possible d'importer certaines fonctions qui ont été définies par d'autres. Pour cela nous allons importer une bibliothèque. Ces dernières sont placées encore avant les fonctions:\n",
    "\n",
    "```\n",
    "import bibliothèqueI\n",
    "import bibliothèqueII\n",
    "\n",
    "Définition de la fonction1\n",
    "Définition de la fonction2\n",
    "\n",
    "Instruction A\n",
    "Appel de la fonction2\n",
    "Instruction B\n",
    "Appel de la fonction1\n",
    "Appel de la fonction bibliothèqueI.fonctionΔ\n",
    "Instruction C\n",
    "Instruction D\n",
    "Appel de la fonction bibliothèqueII.fonctionΣ\n",
    "```\n",
    "\n",
    "Prenons un exemple: nous aimerions bien prendre notre temps et faire en sorte qu'une fonction ne soit pas exécutée instantanément. Pour cela il existe une fonction `time.sleep()`, mais pour l'utiliser il faut importer une bibliothèque `time`. Je vais le faire comme suit:"
   ]
  },
  {
   "cell_type": "code",
   "execution_count": null,
   "metadata": {},
   "outputs": [],
   "source": [
    "#J'importe la bibliothèque\n",
    "import time\n",
    "\n",
    "#Je définis ma fonction\n",
    "def birthday(age):\n",
    "    return int(age)+1\n",
    "\n",
    "#mon script\n",
    "monAge=input('Quel est votre âge?')\n",
    "monAgeNouvelAge=birthday(monAge)\n",
    "time.sleep(2) #J'appelle la fonction de ma bibliothèque\n",
    "print(\"Bon anniversaire!! Votre âge est désormais de :\", monAgeNouvelAge)"
   ]
  },
  {
   "cell_type": "markdown",
   "metadata": {},
   "source": [
    "L'écrasante majorité des scripts nécessitent des bibliothèques -- et donc de maîtriser au moins les principales. Par exemple pour lire un CSV:"
   ]
  },
  {
   "cell_type": "code",
   "execution_count": null,
   "metadata": {},
   "outputs": [],
   "source": [
    "import csv\n",
    "with open('data/data.csv', 'r') as file:\n",
    "    reader = csv.reader(file)\n",
    "    for row in reader:\n",
    "        print(row)\n"
   ]
  },
  {
   "cell_type": "markdown",
   "metadata": {},
   "source": [
    "-\n",
    "\n",
    "-\n",
    "\n",
    "-\n",
    "\n",
    "-\n",
    "\n",
    "-\n",
    "\n",
    "-\n",
    "\n",
    "-\n",
    "\n",
    "-\n",
    "\n",
    "-\n",
    "\n",
    "-\n",
    "\n",
    "-\n",
    "\n",
    "-\n"
   ]
  },
  {
   "cell_type": "code",
   "execution_count": null,
   "metadata": {},
   "outputs": [],
   "source": [
    "def total(prix,taxe):\n",
    "    return prix+((prix/100)*taxe)\n",
    "PQ = int(input('Entrez le prix du papier toilette:'))\n",
    "Ketchup = int(input('Entrez le prix du ketchup: '))\n",
    "TVA = int(input('Entrez le montant de la TVA: '))\n",
    "\n",
    "montant=total(PQ,TVA)+total(Ketchup,TVA)\n",
    "\n",
    "print(montant) "
   ]
  }
 ],
 "metadata": {
  "kernelspec": {
   "display_name": "Python 3",
   "language": "python",
   "name": "python3"
  },
  "language_info": {
   "codemirror_mode": {
    "name": "ipython",
    "version": 3
   },
   "file_extension": ".py",
   "mimetype": "text/x-python",
   "name": "python",
   "nbconvert_exporter": "python",
   "pygments_lexer": "ipython3",
   "version": "3.7.1"
  }
 },
 "nbformat": 4,
 "nbformat_minor": 2
}
