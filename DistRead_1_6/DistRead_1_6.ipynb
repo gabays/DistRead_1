{
 "cells": [
  {
   "cell_type": "markdown",
   "metadata": {},
   "source": [
    "Distant Reading I: hacker les humanités\n",
    "\n",
    "# Algorithmique 2\n",
    "\n",
    "Simon Gabay\n",
    "\n",
    "Genève\n",
    "\n",
    "<a rel=\"license\" href=\"http://creativecommons.org/licenses/by/4.0/\"><img alt=\"Licence Creative Commons\" style=\"border-width:0;float:right;\" src=\"https://i.creativecommons.org/l/by/4.0/88x31.png\" /></a><br />This work is licensed under a <a rel=\"license\" href=\"http://creativecommons.org/licenses/by/4.0/\">Creative Commons Attribution 4.0 International Licence</a>."
   ]
  },
  {
   "cell_type": "markdown",
   "metadata": {},
   "source": [
    "# 1 Opérateurs\n",
    "## 1.1 Opérateurs arithmétiques\n",
    "### 1.1.1 Addition\n",
    "Il est possible d'aditionner toutes sortes de choses. Des entiers bien sûr:"
   ]
  },
  {
   "cell_type": "code",
   "execution_count": null,
   "metadata": {},
   "outputs": [],
   "source": [
    "1+1"
   ]
  },
  {
   "cell_type": "markdown",
   "metadata": {},
   "source": [
    "Des flottants:"
   ]
  },
  {
   "cell_type": "code",
   "execution_count": null,
   "metadata": {},
   "outputs": [],
   "source": [
    "1.1+1.2"
   ]
  },
  {
   "cell_type": "markdown",
   "metadata": {},
   "source": [
    "Un entier avec un flottant"
   ]
  },
  {
   "cell_type": "code",
   "execution_count": null,
   "metadata": {},
   "outputs": [],
   "source": [
    "1.1+1"
   ]
  },
  {
   "cell_type": "markdown",
   "metadata": {},
   "source": [
    " (le résultat est alors un flottant)"
   ]
  },
  {
   "cell_type": "code",
   "execution_count": null,
   "metadata": {},
   "outputs": [],
   "source": [
    "type(1.1+1)"
   ]
  },
  {
   "cell_type": "markdown",
   "metadata": {},
   "source": [
    "Et même, on l'a vu, des caractères:"
   ]
  },
  {
   "cell_type": "code",
   "execution_count": null,
   "metadata": {},
   "outputs": [],
   "source": [
    "\"a\"+\"b\""
   ]
  },
  {
   "cell_type": "markdown",
   "metadata": {},
   "source": [
    "Il existe cependant certaines limites, plus logiques qu'informatiques. Il est ainsi impossible d'additionner des caractères et des chiffres"
   ]
  },
  {
   "cell_type": "code",
   "execution_count": null,
   "metadata": {},
   "outputs": [],
   "source": [
    "\"a\"+1"
   ]
  },
  {
   "cell_type": "markdown",
   "metadata": {},
   "source": [
    "Une solution serait de convertir le chiffre en caractère puis de l'additioner avec l'autre caractère"
   ]
  },
  {
   "cell_type": "code",
   "execution_count": null,
   "metadata": {},
   "outputs": [],
   "source": [
    "\"a\"+str(1)"
   ]
  },
  {
   "cell_type": "markdown",
   "metadata": {},
   "source": [
    "### 1.1.2 Soustraction\n",
    "Il est aussi possible de faire des soustractions avec le signe `-`"
   ]
  },
  {
   "cell_type": "code",
   "execution_count": null,
   "metadata": {},
   "outputs": [],
   "source": [
    "soustraction_entier = 5 - 2 # avec des entiers\n",
    "soustraction_flottant1 = 8.5 - 2.4 # avec des flottants\n",
    "soustraction_flottant2 = 8 - 2.4 # avec un entier et un flottant, le résultat étant un flottant\n",
    "# J'affiche toutes mes variables, en les séparant avec une regex\n",
    "print(soustraction_entier, soustraction_flottant1, soustraction_flottant2, sep=\"\\n\")"
   ]
  },
  {
   "cell_type": "markdown",
   "metadata": {},
   "source": [
    "La soustraction, comme les autres opérations, ne peut en revanche s'appliquer aux caractères"
   ]
  },
  {
   "cell_type": "code",
   "execution_count": null,
   "metadata": {},
   "outputs": [],
   "source": [
    "\"a\"-\"b\""
   ]
  },
  {
   "cell_type": "markdown",
   "metadata": {},
   "source": [
    "Les opérateurs booléens ayant une valeur de `0` (`False`) ou de `1` (`True`) il est possible de les utiliser comme des chiffres"
   ]
  },
  {
   "cell_type": "code",
   "execution_count": null,
   "metadata": {},
   "outputs": [],
   "source": [
    "5- True"
   ]
  },
  {
   "cell_type": "markdown",
   "metadata": {},
   "source": [
    "et"
   ]
  },
  {
   "cell_type": "code",
   "execution_count": null,
   "metadata": {},
   "outputs": [],
   "source": [
    "4.2+ False"
   ]
  },
  {
   "cell_type": "markdown",
   "metadata": {},
   "source": [
    "### 1.1.3 Multiplication\n",
    "La multiplication se fait avec le signe `*`"
   ]
  },
  {
   "cell_type": "code",
   "execution_count": null,
   "metadata": {},
   "outputs": [],
   "source": [
    "multiplication_entier = 5 * 2 # avec des entiers\n",
    "multiplication_flottant1 = 8.5 * 2.4 # avec des flottants\n",
    "multiplication_flottant2 = 8 * 2.4 # avec un entier et un flottant, le résultat étant un flottant\n",
    "# J'affiche toutes mes variables, en les séparant avec une regex\n",
    "print(multiplication_entier, multiplication_flottant1, multiplication_flottant2, sep=\"\\n\")"
   ]
  },
  {
   "cell_type": "markdown",
   "metadata": {},
   "source": [
    "Encore une fois, il n'est pas possible de multiplier les caractères"
   ]
  },
  {
   "cell_type": "code",
   "execution_count": null,
   "metadata": {},
   "outputs": [],
   "source": [
    "\"a\"*\"b\""
   ]
  },
  {
   "cell_type": "markdown",
   "metadata": {},
   "source": [
    "Il est en revanche possible de multiplier des caractères avec des entiers"
   ]
  },
  {
   "cell_type": "code",
   "execution_count": null,
   "metadata": {},
   "outputs": [],
   "source": [
    "\"abc \" *12"
   ]
  },
  {
   "cell_type": "markdown",
   "metadata": {},
   "source": [
    "Mais pas il est impossible de multiplier des caractères avec des flottants:"
   ]
  },
  {
   "cell_type": "code",
   "execution_count": null,
   "metadata": {},
   "outputs": [],
   "source": [
    "\"a\"*2.1"
   ]
  },
  {
   "cell_type": "markdown",
   "metadata": {},
   "source": [
    "Il existe un type particulier de multiplication: l'exposant. En effet 5<sup>4</sup> (\"5 puissance 4\") revient à faire une série de multiplications:"
   ]
  },
  {
   "cell_type": "code",
   "execution_count": null,
   "metadata": {},
   "outputs": [],
   "source": [
    "5*5*5*5"
   ]
  },
  {
   "cell_type": "markdown",
   "metadata": {},
   "source": [
    "Il est possible de noter \"puissance\" avec le signe `**`"
   ]
  },
  {
   "cell_type": "code",
   "execution_count": null,
   "metadata": {},
   "outputs": [],
   "source": [
    "5**4"
   ]
  },
  {
   "cell_type": "markdown",
   "metadata": {},
   "source": [
    "### 1.1.4 Division et reste\n",
    "La division est faite avec l'opérateur `/`"
   ]
  },
  {
   "cell_type": "code",
   "execution_count": null,
   "metadata": {},
   "outputs": [],
   "source": [
    "division_entier = 5 / 2 # avec des entiers\n",
    "division_flottant1 = 8.5 / 2.4 # avec des flottants\n",
    "division_flottant2 = 8 / 2.4 # avec un entier et un flottant, le résultat étant un flottant\n",
    "# J'affiche toutes mes variables, en les séparant avec une regex\n",
    "print(division_entier, division_flottant1, division_flottant2, sep=\"\\n\")"
   ]
  },
  {
   "cell_type": "markdown",
   "metadata": {},
   "source": [
    "Dans certains cas, il peut être utile de savoir que le résultat sera forcément un entier. Pour ce faire nous pouvons utiliser le signe `//` qui permet de faire une _division tronquée_"
   ]
  },
  {
   "cell_type": "code",
   "execution_count": null,
   "metadata": {},
   "outputs": [],
   "source": [
    "division_tronquee1 = 5 // 2 # avec des entiers\n",
    "division_tronquee2 = 10 // 3 # avec des flottants\n",
    "division_tronquee3 = 10.2 // 8 # avec un entier et un flottant, le résultat étant un flottant\n",
    "# J'affiche toutes mes variables, en les séparant avec une regex\n",
    "print(division_tronquee1, division_tronquee2, division_tronquee3, sep=\"\\n\")"
   ]
  },
  {
   "cell_type": "markdown",
   "metadata": {},
   "source": [
    "Je peux aussi récupérer ce qui a été perdu au passage, le _reste_ ou (<i>modulo</i>) , avec le signe `%`.\n",
    "Par exemple"
   ]
  },
  {
   "cell_type": "code",
   "execution_count": null,
   "metadata": {},
   "outputs": [],
   "source": [
    "6 % 3"
   ]
  },
  {
   "cell_type": "markdown",
   "metadata": {},
   "source": [
    "Car `6 = 3 * 2 + 0`. Mais en revanche:"
   ]
  },
  {
   "cell_type": "code",
   "execution_count": null,
   "metadata": {},
   "outputs": [],
   "source": [
    "10 % 3"
   ]
  },
  {
   "cell_type": "markdown",
   "metadata": {},
   "source": [
    "Car `10 = 3 * 3 + 1`"
   ]
  },
  {
   "cell_type": "markdown",
   "metadata": {},
   "source": [
    "## 1.2 Opérateurs de comparaison\n",
    "Ces opérateurs renvoient une valeur booléenne: `true` ou bien `False`\n",
    "### 1.2.1 Opérateur d'égalité\n",
    "On se rappelle que le signe `=` permet d'assigner une valeur à une variable:\n",
    "```python\n",
    "variable=\"valeur\"\n",
    "```\n",
    "Il nous faut donc avoir recours à un autre signe: ce sera `==`"
   ]
  },
  {
   "cell_type": "code",
   "execution_count": null,
   "metadata": {},
   "outputs": [],
   "source": [
    "\"a\" == \"a\""
   ]
  },
  {
   "cell_type": "code",
   "execution_count": null,
   "metadata": {},
   "outputs": [],
   "source": [
    "True == True"
   ]
  },
  {
   "cell_type": "code",
   "execution_count": null,
   "metadata": {},
   "outputs": [],
   "source": [
    "1==1"
   ]
  },
  {
   "cell_type": "markdown",
   "metadata": {},
   "source": [
    "Notons que si l'on peut comparer un entier avec un flottant"
   ]
  },
  {
   "cell_type": "code",
   "execution_count": null,
   "metadata": {},
   "outputs": [],
   "source": [
    "2 == 2.0"
   ]
  },
  {
   "cell_type": "markdown",
   "metadata": {},
   "source": [
    "On peut aussi comparer un entier avec le caractère équivalent, mais le résultat est faux"
   ]
  },
  {
   "cell_type": "code",
   "execution_count": null,
   "metadata": {},
   "outputs": [],
   "source": [
    "2 == \"2\""
   ]
  },
  {
   "cell_type": "markdown",
   "metadata": {},
   "source": [
    "### 1.2.2 Opérateur d'inégalité\n",
    "L'inverse de `==` est `!=`"
   ]
  },
  {
   "cell_type": "code",
   "execution_count": null,
   "metadata": {},
   "outputs": [],
   "source": [
    "\"a\" != \"a\""
   ]
  },
  {
   "cell_type": "code",
   "execution_count": null,
   "metadata": {},
   "outputs": [],
   "source": [
    "True != False"
   ]
  },
  {
   "cell_type": "markdown",
   "metadata": {},
   "source": [
    "### 1.2.3 Opérateur de supériorité et d'infériorité (stricte ou non)\n",
    "Comme en mathématiques on utilise les signes `>` et `<` pour la supériorité et l'infériorité stricte"
   ]
  },
  {
   "cell_type": "code",
   "execution_count": null,
   "metadata": {},
   "outputs": [],
   "source": [
    "1<2"
   ]
  },
  {
   "cell_type": "code",
   "execution_count": null,
   "metadata": {},
   "outputs": [],
   "source": [
    "10>2"
   ]
  },
  {
   "cell_type": "code",
   "execution_count": null,
   "metadata": {},
   "outputs": [],
   "source": [
    "2>5"
   ]
  },
  {
   "cell_type": "markdown",
   "metadata": {},
   "source": [
    "Cet opérateur de comparaison vaut aussi pour les chaînes de caractères, dont on compare **le classement alphabétique** (et non le nombre de caractères)"
   ]
  },
  {
   "cell_type": "code",
   "execution_count": null,
   "metadata": {},
   "outputs": [],
   "source": [
    "\"abcefghij\" < \"bcd\""
   ]
  },
  {
   "cell_type": "markdown",
   "metadata": {},
   "source": [
    "Il est possible d'utilise un comparateur de supériorité et d'infériorité non-stricte: `>=` (supérieur ou égal) et `<=` (inférieur ou égal), ainsi"
   ]
  },
  {
   "cell_type": "code",
   "execution_count": null,
   "metadata": {},
   "outputs": [],
   "source": [
    "4>4"
   ]
  },
  {
   "cell_type": "markdown",
   "metadata": {},
   "source": [
    "mais"
   ]
  },
  {
   "cell_type": "code",
   "execution_count": null,
   "metadata": {},
   "outputs": [],
   "source": [
    "4>=4"
   ]
  },
  {
   "cell_type": "markdown",
   "metadata": {},
   "source": [
    "## 1.3 Opérateurs booléens\n",
    "(Source image: <a href=\"https://paris-sorbonne.libguides.com/google\" target=\"_blank\">https://paris-sorbonne.libguides.com</a>)\n",
    "\n",
    "Ce sont des opérateurs qui permettent d'expliciter ou de préciser les opérateurs de comparaison. On en compte trois:\n",
    "\n",
    "<img src=\"images/OpBooleen.jpg\" style width=\"50%\">\n",
    "\n",
    "### 1.3.1 `not`\n",
    "`not` permet d'inverser le résultat de la comparaison"
   ]
  },
  {
   "cell_type": "code",
   "execution_count": null,
   "metadata": {},
   "outputs": [],
   "source": [
    "\"a\" != \"a\""
   ]
  },
  {
   "cell_type": "code",
   "execution_count": null,
   "metadata": {},
   "outputs": [],
   "source": [
    "not \"a\" == \"a\""
   ]
  },
  {
   "cell_type": "markdown",
   "metadata": {},
   "source": [
    "### 1.3.1 `and`\n",
    "`and` permet de garantir que toutes les conditions testées sont vraies"
   ]
  },
  {
   "cell_type": "code",
   "execution_count": null,
   "metadata": {},
   "outputs": [],
   "source": [
    "True and False"
   ]
  },
  {
   "cell_type": "code",
   "execution_count": null,
   "metadata": {},
   "outputs": [],
   "source": [
    "True and True"
   ]
  },
  {
   "cell_type": "code",
   "execution_count": null,
   "metadata": {},
   "outputs": [],
   "source": [
    "\"abc\" == \"abc\" and 32 <= 45.897"
   ]
  },
  {
   "cell_type": "markdown",
   "metadata": {},
   "source": [
    "### 1.3.1 `or`\n",
    "`and` permet de garantir qu'au moins une des conditions testées est vraie"
   ]
  },
  {
   "cell_type": "code",
   "execution_count": null,
   "metadata": {},
   "outputs": [],
   "source": [
    "True or False"
   ]
  },
  {
   "cell_type": "code",
   "execution_count": null,
   "metadata": {},
   "outputs": [],
   "source": [
    "True and True"
   ]
  },
  {
   "cell_type": "code",
   "execution_count": null,
   "metadata": {},
   "outputs": [],
   "source": [
    "\"abc\" != \"bcd\" or 32 <= (45.897+(3**5))/2"
   ]
  },
  {
   "cell_type": "markdown",
   "metadata": {},
   "source": [
    "# 2. Les structures de contrôle\n",
    "\n",
    "## 2.0 Le pseudo-code\n",
    "\n",
    "Il est possible d'utiliser du pseudo-code pour réfléchir à la fabrication d'algorithme. On parle de LDA (Langage de Description d'Algorithmes), qui est une façon de décrire un algorithme en langage presque naturel.\n",
    "\n",
    "On va d'abord détailler le problème à résoudre en en faisant l'analyse. La règle est simple: une ligne, une instruction:\n",
    "\n",
    "```console\n",
    "première instruction\n",
    "deuxième instruction\n",
    "troisième instruction\n",
    "…\n",
    "dernière instruction\n",
    "```\n",
    "\n",
    "Dans un second temps il est possible de reprendre le même problème en se rapprochant d'un langage de programmation et en utilisant des rudiments de code (si, alors, sinon, pour chaque…)\n",
    "\n",
    "Exemple: demander deux nombres et les afficher ensuite dans l'ordre croissant.\n",
    "\n",
    "Analyse:\n",
    "```\n",
    "introduire a,b\n",
    "si a < b afficher a et b sinon afficher b et a\n",
    "```\n",
    "\n",
    "L'algorithme serait le suivant:\n",
    "\n",
    "```\n",
    "Variable n1, n2 en Entier\n",
    "début\n",
    " ecrire \"n1,n2 ?\"\n",
    " entrer n1,n2\n",
    " lire n1,n2\n",
    " ecrire \"par ordre croissant\"\n",
    " si n1<n2 alors\n",
    "  ecrire n1,\" \",n2\n",
    " sinon\n",
    "  ecrire n2,\" \",n1\n",
    " fsi\n",
    "Fin\n",
    "```\n",
    "\n",
    "## 2.1 Les structures de test\n",
    "### 2.1.1 `if`\n",
    "<img src=\"images/if-statement.jpg\" style =\"float:right;\" width=\"30%\">\n",
    "<a href=\"https://www.geeksforgeeks.org/python-if-else/\" target=\"_blank\">Source image</a>\n",
    "\n",
    "Il existe plusieurs structures de test possible. La plus simple est la suivante:\n",
    "```\n",
    "Si booléen Alors\n",
    "    Instructions\n",
    "Finsi\n",
    "```\n",
    "\n",
    "Les informaticiens ont l'habitude de représenter ce type de problème sous la forme de _<a href=\"https://en.wikipedia.org/wiki/Flowchart\" target=\"_blank\">Flowchart</a>_ :\n",
    "* La flèche représente le processus, la _Flowline_\n",
    "* Le losange symbolise un point de décision dans le processus\n",
    "* Le rectangle représente un événement contrôlé dans le processus\n",
    "\n",
    "Par exemple:\n",
    "```\n",
    "Variable note, moyenne en Entier\n",
    "Début\n",
    "Si note>moyenne Alors\n",
    "    ecrire \"bravo!\"\n",
    "Finsi\n",
    "Fin\n",
    "```\n",
    "Soit en python (vous pouvez/devez jouer avec la variable _note_ évidemment):"
   ]
  },
  {
   "cell_type": "code",
   "execution_count": null,
   "metadata": {},
   "outputs": [],
   "source": [
    "note=2\n",
    "moyenne=3\n",
    "if note>moyenne:\n",
    "    print(\"bravo!\")"
   ]
  },
  {
   "cell_type": "markdown",
   "metadata": {},
   "source": [
    "### 2.1.2  `else`\n",
    "<img src=\"images/if-else.jpg\" style =\"float:right;\" width=\"24%\">\n",
    "\n",
    "Mais que ce passe-t-il si la note est supérieure à la moyenne? Il faut envisager une structure de test un peu plus complexe que la précédente:\n",
    "```\n",
    "Si booléen Alors\n",
    "    Instructions 1\n",
    "Sinon\n",
    "    Instructions 2\n",
    "Finsi\n",
    "```\n",
    "\n",
    "Ainsi\n",
    "\n",
    "```\n",
    "Variable note, moyenne en Entier\n",
    "Début\n",
    "Si note>moyenne Alors\n",
    "    ecrire \"bravo!\"\n",
    "Sinon\n",
    "    ecrire \"échec…\"\n",
    "Finsi\n",
    "Fin\n",
    "```\n",
    "\n",
    "Soit en python (vous pouvez/devez jouer avec la variable _note_ évidemment)"
   ]
  },
  {
   "cell_type": "code",
   "execution_count": null,
   "metadata": {},
   "outputs": [],
   "source": [
    "note=6\n",
    "moyenne=5\n",
    "if note>moyenne:\n",
    "    print(\"bravo!\")\n",
    "else:\n",
    "    print(\"échec\")"
   ]
  },
  {
   "cell_type": "markdown",
   "metadata": {},
   "source": [
    "### 2.1.3 Test imbriqué\n",
    "<img src=\"images/Nested_if.jpg\" style =\"float:right;\" width=\"50%\">\n",
    "\n",
    "Il est aussi possible de faire des tests imbriqués:\n",
    "```\n",
    "Si booléen Alors\n",
    "    Instructions 1\n",
    "Sinon\n",
    "    Si booléen Alors\n",
    "        Instructions 2\n",
    "    Si booléen Alors\n",
    "        Instructions 3\n",
    "Finsi\n",
    "```\n",
    "\n",
    "Ainsi\n",
    "\n",
    "```\n",
    "Variable note, moyenne, mention en Entier\n",
    "Début\n",
    "Si note>moyenne Alors\n",
    "    Si note<mention Alors\n",
    "        ecrire \"bien!\"\n",
    "    Sinon\n",
    "        ecrire \"Félicitations!\"\n",
    "Sinon\n",
    "    ecrire \"échec\"\n",
    "Finsi\n",
    "Fin\n",
    "```\n",
    "\n",
    "Soit en python (vous pouvez/devez jouer avec la variable _note_ évidemment)"
   ]
  },
  {
   "cell_type": "code",
   "execution_count": null,
   "metadata": {},
   "outputs": [],
   "source": [
    "note=5\n",
    "moyenne=3\n",
    "mention=5\n",
    "if note>moyenne:\n",
    "    if note<mention:\n",
    "        print(\"bien!\")\n",
    "    else:\n",
    "        print(\"félicitations!\")\n",
    "else:\n",
    "    print(\"échec\")"
   ]
  },
  {
   "cell_type": "markdown",
   "metadata": {},
   "source": [
    "### 2.1.4 `elif`\n",
    "<img src=\"images/if-elseif-ladder.jpg\" style =\"float:right;\" width=\"50%\">\n",
    "\n",
    "Il est aussi possible de faire des tests imbriqués:\n",
    "```\n",
    "Si expression Alors\n",
    "    Instructions \n",
    "Finsi\n",
    "```\n",
    "\n",
    "Ainsi\n",
    "\n",
    "```\n",
    "Variable note, moyenne, mention en Entier\n",
    "Début\n",
    "Si note<moyenne Alors\n",
    "    ecrire \"échec\"\n",
    "SinonSi note>moyenne et note<mention Alors\n",
    "    ecrire \"bien!\"\n",
    "Sinon\n",
    "    ecrire \"Félicitations!\"\n",
    "Finsi\n",
    "Fin\n",
    "```\n",
    "\n",
    "Soit en python (vous pouvez/devez jouer avec la variable _note_ évidemment)"
   ]
  },
  {
   "cell_type": "code",
   "execution_count": null,
   "metadata": {},
   "outputs": [],
   "source": [
    "note=4.5\n",
    "moyenne=3\n",
    "mention=5\n",
    "if note<moyenne:\n",
    "    print(\"échec\")\n",
    "elif note>=moyenne and note<mention:\n",
    "    print(\"bien!\")\n",
    "else:\n",
    "    print(\"félicitations!\")"
   ]
  },
  {
   "cell_type": "markdown",
   "metadata": {},
   "source": [
    "### 2.1.4 Remarque importante\n",
    "Tentez de faire fonctionner ce morceau de code (analysez l'erreur)"
   ]
  },
  {
   "cell_type": "code",
   "execution_count": null,
   "metadata": {},
   "outputs": [],
   "source": [
    "note=4.5\n",
    "moyenne=3\n",
    "mention=5\n",
    "if note<moyenne:\n",
    "print(\"échec\")\n",
    "elif note>=moyenne and note<mention:\n",
    "print(\"bien!\")\n",
    "else:\n",
    "print(\"félicitations!\")"
   ]
  },
  {
   "cell_type": "markdown",
   "metadata": {},
   "source": [
    "<b>Remarque importante: vous avez vu que le code est indenté. En python, conrtairement à d'autres langages, c'est une obligation. Il s'agit soit d'une tabulation, soit de quatre espaces.</b>\n",
    "```python\n",
    "if a is True:\n",
    "    if b is True:\n",
    "        if c is False:\n",
    "            ...\n",
    "        else:\n",
    "            ...\n",
    "else:\n",
    "    ...\n",
    "```\n",
    "Ainsi ce code fonctionne\n"
   ]
  },
  {
   "cell_type": "markdown",
   "metadata": {},
   "source": [
    "## 2.2 Structures de répétition\n",
    "### 2.2.1 `while`\n",
    "<img src=\"images/while-loop.png\" style =\"float:right;\" width=\"30%\">\n",
    "<a href=\"https://commons.wikimedia.org/wiki/File:Cf-while-fr.svg\" target=\"_blank\">Source image</a>\n",
    "\n",
    "Il est utile de pouvoir répéter un processus plusieurs fois jusqu'à ce que la condition exprimée soit fausse.\n",
    "```\n",
    "tantQue booléen Alors\n",
    "    Instructions\n",
    "FinTantQue\n",
    "```\n",
    "\n",
    "Ainsi, dans le cas où un étudiant tente d'obtenir la moyenne pour réussir l'examen:\n",
    "\n",
    "```\n",
    "Variable note en Entier\n",
    "Début\n",
    "ecrire \"Veuillez entrer une première note (sur 6): \"\n",
    "lire note1\n",
    "ecrire \"Veuillez entrer une deuxième note (sur 6): \"\n",
    "lire note2\n",
    "tantQue (note1+note2)/2>=3 Alors\n",
    "    ecrire \"Vous devez repasser l'examen!\"\n",
    "    ecrire \"Veuillez entrer une première note (sur 6): \"\n",
    "    lire note1\n",
    "    ecrire \"Veuillez entrer une deuxième note (sur 6): \"\n",
    "    lire note2\n",
    "FinTantQue\n",
    "Fin\n",
    "```\n",
    "Ce qui donne en python:"
   ]
  },
  {
   "cell_type": "code",
   "execution_count": null,
   "metadata": {},
   "outputs": [],
   "source": [
    "note1 = float(input(\"Veuillez entrer une première note (sur 6): \"))\n",
    "note2 = float(input(\"Veuillez entrer une deuxième note (sur 6): \"))\n",
    "while (note1+note2)/2 <=3:\n",
    "    print(\"Votre note est de \" + str((note1+note2)/2) +\". Vous devez repasser l'examen.\")\n",
    "    note1 = float(input(\"Veuillez entrer une première note (sur 6): \"))\n",
    "    note2 = float(input(\"Veuillez entrer une deuxième note (sur 6): \"))"
   ]
  },
  {
   "cell_type": "markdown",
   "metadata": {},
   "source": [
    "Il est possible de combiner `while` avec des choses que nous avons déjà vu pour les structures de test, comme `else`:"
   ]
  },
  {
   "cell_type": "code",
   "execution_count": null,
   "metadata": {},
   "outputs": [],
   "source": [
    "note1 = float(input(\"Veuillez entrer une première note (sur 6): \"))\n",
    "note2 = float(input(\"Veuillez entrer une deuxième note (sur 6): \"))\n",
    "while (note1+note2)/2 <=3:\n",
    "    print(\"Votre note est de \" + str((note1+note2)/2) +\". Vous devez repasser l'examen.\")\n",
    "    note1 = float(input(\"Veuillez entrer une première note (sur 6): \"))\n",
    "    note2 = float(input(\"Veuillez entrer une deuxième note (sur 6): \"))\n",
    "else:\n",
    "    print(\"Vous passez!\")"
   ]
  },
  {
   "cell_type": "markdown",
   "metadata": {},
   "source": [
    "<b>Il est possible qu'une boucle ne s'arrête jamais: il est donc essentiel de s'assurer, par des mécanismes de contrôle simple (comme un nombre maximum d'itration) que le processus ait une fin.</b>\n",
    "\n",
    "Par exemple, limitons le nombre de tentative à trois"
   ]
  },
  {
   "cell_type": "code",
   "execution_count": null,
   "metadata": {},
   "outputs": [],
   "source": [
    "note1 = float(input(\"Veuillez entrer une première note (sur 6): \"))\n",
    "note2 = float(input(\"Veuillez entrer une deuxième note (sur 6): \"))\n",
    "tentatives=1 # préparons une variable que nous allons incrémenter à chaque itération\n",
    "while (note1+note2)/2 <=3:\n",
    "    print(\"Votre note est de \" + str((note1+note2)/2) +\". Vous devez repasser l'examen.\")\n",
    "    note1 = float(input(\"Veuillez entrer une première note (sur 6): \"))\n",
    "    note2 = float(input(\"Veuillez entrer une deuxième note (sur 6): \"))\n",
    "    tentatives+=1 # notez ici le signe += qui permet une assignation augmentée \n",
    "    print(\"nombre de tentatives: \" + str(tentatives))\n",
    "    if  tentatives>=3 and (note1+note2)/2 <=3:\n",
    "        print(\"Echec définitif\")\n",
    "        break\n",
    "else:\n",
    "    print(\"Vous passez!\")"
   ]
  },
  {
   "cell_type": "markdown",
   "metadata": {},
   "source": [
    "### 2.2.2 `for`\n",
    "<img src=\"images/for-loop.png\" style =\"float:right;\" width=\"30%\">\n",
    "<a href=\"https://www.geeksforgeeks.org/python-if-else/\" target=\"_blank\">Source image</a>\n",
    "\n",
    "La boucle `for` permet de répéter la même séquence d’instructions pour tous les éléments d’un ensemble.\n",
    "\n",
    "```\n",
    "Pour Compteur ← Initial à Final Pas ValeurDuPas\n",
    "   …\n",
    "   Instructions\n",
    "   …\n",
    "Compteur suivant\n",
    "```\n",
    "\n",
    "Ainsi, pour afficher la liste des notes possibles entre 1 et 6, et définir celles qui permettent de passer:\n",
    "```\n",
    "Variable note en Intervalle\n",
    "Début\n",
    "pour note dans notes\n",
    "    si note<3\n",
    "        ecrire \"ça casse\"\n",
    "    sinon\n",
    "        ecrire \"ça passe\"\n",
    "note suivante\n",
    "Fin\n",
    "```"
   ]
  },
  {
   "cell_type": "code",
   "execution_count": null,
   "metadata": {},
   "outputs": [],
   "source": [
    "notes=range(1,6)\n",
    "for note in notes:\n",
    "    if note <3:\n",
    "        print(note,\": ça casse…\")\n",
    "    else:\n",
    "        print(note,\": ça passe!\")"
   ]
  },
  {
   "cell_type": "markdown",
   "metadata": {},
   "source": [
    "Si vous êtes pudiques, vous pouvez passer sur les mauvaises nouvelles avec `pass`"
   ]
  },
  {
   "cell_type": "code",
   "execution_count": null,
   "metadata": {},
   "outputs": [],
   "source": [
    "notes=range(1,6)\n",
    "for note in notes:\n",
    "    if note <3:\n",
    "        pass\n",
    "    else:\n",
    "        print(note,\": ça passe!\")"
   ]
  },
  {
   "cell_type": "markdown",
   "metadata": {},
   "source": [
    "Un intervalle (`range()`) génère une liste de chiffres, en l'occurrence entre 1 et 6 avec un pas de 1.\n",
    "Il existe ainsi d'autres types de données, comme la liste -- nous reviendrons sur ce type de donnée au cours prochain, mais présentons les rapidement."
   ]
  },
  {
   "cell_type": "code",
   "execution_count": null,
   "metadata": {},
   "outputs": [],
   "source": [
    "notes=[1,2,3,4,5,6,7,8]\n",
    "for note in notes:\n",
    "    if note <3:\n",
    "        print(note,\": ça casse…\")\n",
    "    else:\n",
    "        print(note,\": ça passe!\")"
   ]
  },
  {
   "cell_type": "markdown",
   "metadata": {},
   "source": [
    "Mais nous n'avons pas besoin de toutes ces informations… Nous pouvons donc arrêter la boucle après 6. Pour cella utilisons `break`."
   ]
  },
  {
   "cell_type": "code",
   "execution_count": null,
   "metadata": {},
   "outputs": [],
   "source": [
    "notes=range(1,50)\n",
    "for note in notes:\n",
    "    if note < 3:\n",
    "        print(note,\": ça casse…\")\n",
    "    if note >= 3 and note <= 6:\n",
    "        print(note,\": ça passe!\")\n",
    "    if note >= 7:\n",
    "        break"
   ]
  },
  {
   "cell_type": "markdown",
   "metadata": {},
   "source": [
    "Une autre type de données est le dictionnaire. Il est possible d'afficher les données d'un dictionnaire en utilisant la méthode `items()`"
   ]
  },
  {
   "cell_type": "code",
   "execution_count": null,
   "metadata": {},
   "outputs": [],
   "source": [
    "etudiants ={5: 'Paul', 2: 'Marie', 1: 'Jean', 6: 'Madeleine'}\n",
    "for note,etudiant in etudiants.items():\n",
    "    print(etudiant, \"a la note de\", note, sep=\" \")"
   ]
  },
  {
   "cell_type": "markdown",
   "metadata": {},
   "source": [
    "### 2.3 Exercices\n",
    "Pour être vraiment fonctionnel, le programme devrait être le suivant:"
   ]
  },
  {
   "cell_type": "markdown",
   "metadata": {},
   "source": [
    "1. Ecrire un algorithme qui demande un nombre à l’utilisateur, et l’informe ensuite si ce nombre est positif ou négatif (on laisse de côté le cas où le nombre vaut zéro).\n",
    "2. Ecrire un algorithme qui demande deux nombres à l’utilisateur et l’informe ensuite si leur produit est négatif ou positif (on laisse de côté le cas où le produit est nul). Attention toutefois : on ne doit pas calculer le produit des deux nombres.\n",
    "3. Ecrire un algorithme qui demande trois noms à l’utilisateur et l’informe ensuite s’ils sont rangés ou non dans l’ordre alphabétique.\n",
    "4. Tentez d'écrire l'algorithme de ce code!"
   ]
  },
  {
   "cell_type": "code",
   "execution_count": null,
   "metadata": {},
   "outputs": [],
   "source": [
    "note = int(input('Entrez la note: '))\n",
    "moyenne=3\n",
    "mention=5\n",
    "def reussite(n):\n",
    "    if note<moyenne:\n",
    "        print(\"échec!\")    \n",
    "    elif note>=moyenne and note<mention:\n",
    "        print(\"bien!\")\n",
    "    else:\n",
    "        print(\"félicitations!\")\n",
    "\n",
    "reussite(note)"
   ]
  },
  {
   "cell_type": "markdown",
   "metadata": {},
   "source": [
    "5. Afficher toutes les lettres de la chaîne de caractère \"Hello world!\""
   ]
  },
  {
   "cell_type": "markdown",
   "metadata": {},
   "source": [
    "_\n",
    "\n",
    "\n",
    "_\n",
    "\n",
    "_\n",
    "\n",
    "_\n",
    "\n",
    "_\n",
    "\n",
    "_\n",
    "\n",
    "_\n",
    "\n",
    "_\n",
    "\n",
    "_\n",
    "\n",
    "_\n",
    "\n",
    "_\n",
    "\n",
    "_\n",
    "\n",
    "_\n",
    "\n",
    "Solution:\n",
    "1. \n",
    "```\n",
    "Variable n en Entier\n",
    "Début\n",
    "Ecrire \"Entrez un nombre : \"\n",
    "Lire n\n",
    "Si n > 0 Alors\n",
    "  Ecrire \"Ce nombre est positif”\n",
    "Sinon\n",
    "  Ecrire \"Ce nombre est négatif\"\n",
    "Finsi\n",
    "Fin\n",
    "```"
   ]
  },
  {
   "cell_type": "code",
   "execution_count": null,
   "metadata": {},
   "outputs": [],
   "source": [
    "n = float(input(\"Veuillez entrer un chiffre: \"))\n",
    "\n",
    "if n > 0:\n",
    "    print(\"Ce nombre est positif\")\n",
    "else:\n",
    "    print(\"Ce nombre est négatif\")"
   ]
  },
  {
   "cell_type": "markdown",
   "metadata": {},
   "source": [
    "2. \n",
    "```\n",
    " Variables m, n en Entier\n",
    "Début\n",
    "Ecrire \"Entrez deux nombres : \"\n",
    "Lire m, n\n",
    "Si (m > 0 ET n > 0) OU (m < 0 ET n < 0) Alors\n",
    "  Ecrire \"Leur produit est positif\"\n",
    "Sinon\n",
    "  Ecrire \"Leur produit est négatif\"\n",
    "Finsi\n",
    "Fin\n",
    "```\n"
   ]
  },
  {
   "cell_type": "code",
   "execution_count": null,
   "metadata": {},
   "outputs": [],
   "source": [
    "m = float(input(\"Veuillez entrer un chiffre: \"))\n",
    "n = float(input(\"Veuillez entrer un deuxième chiffre: \"))\n",
    "\n",
    "\n",
    "if (m > 0 and n > 0) or (m < 0 and n < 0):\n",
    "    print(\"Leur produit est positif\")\n",
    "else:\n",
    "    print(\"Leur produit est négatif\")\n"
   ]
  },
  {
   "cell_type": "markdown",
   "metadata": {},
   "source": [
    "3. \n",
    "```\n",
    " Variables a, b, c en Caractère\n",
    "Début\n",
    "Ecrire \"Entrez successivement trois noms : \"\n",
    "Lire a, b, c\n",
    "Si a < b ET b < c Alors\n",
    "  Ecrire \"Ces noms sont classés alphabétiquement\"\n",
    "Sinon\n",
    "  Ecrire \"Ces noms ne sont pas classés\"\n",
    "Finsi\n",
    "Fin\n",
    "```"
   ]
  },
  {
   "cell_type": "code",
   "execution_count": null,
   "metadata": {},
   "outputs": [],
   "source": [
    "nom1 = input(\"Veuillez entrer un premier nom: \")\n",
    "nom2 = input(\"Veuillez entrer un deuxième nom: \")\n",
    "nom3 = input(\"Veuillez entrer un troisième nom: \")\n",
    "\n",
    "if nom1 < nom2 and nom2 < nom3 :\n",
    "    print(\"Ces noms sont classés alphabétiquement\")\n",
    "else:\n",
    "    print(\"Ces noms ne sont pas classés\")"
   ]
  },
  {
   "cell_type": "code",
   "execution_count": null,
   "metadata": {},
   "outputs": [],
   "source": [
    "for caractere in \"Hello World!\":\n",
    "    print(caractere)"
   ]
  },
  {
   "cell_type": "markdown",
   "metadata": {},
   "source": [
    "# Remarques\n",
    "Ce cours reprend des éléments des cours de <a href=\"https://github.com/alix-tz/Intro-algo\" target=\"_blank\">A. Chagué</a> et <a href=\"http://pise.info/algo/tests.htm\" target=\"_blank\">Ch. Darmangeat</a>"
   ]
  },
  {
   "cell_type": "code",
   "execution_count": null,
   "metadata": {},
   "outputs": [],
   "source": []
  }
 ],
 "metadata": {
  "kernelspec": {
   "display_name": "Python 3",
   "language": "python",
   "name": "python3"
  },
  "language_info": {
   "codemirror_mode": {
    "name": "ipython",
    "version": 3
   },
   "file_extension": ".py",
   "mimetype": "text/x-python",
   "name": "python",
   "nbconvert_exporter": "python",
   "pygments_lexer": "ipython3",
   "version": "3.7.1"
  }
 },
 "nbformat": 4,
 "nbformat_minor": 2
}
