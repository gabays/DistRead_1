{
 "cells": [
  {
   "cell_type": "markdown",
   "metadata": {},
   "source": [
    "Distant Reading I: hacker les humanités\n",
    "\n",
    "# Algorithmique 2\n",
    "\n",
    "Simon Gabay\n",
    "\n",
    "Genève\n",
    "\n",
    "<a rel=\"license\" href=\"http://creativecommons.org/licenses/by/4.0/\"><img alt=\"Licence Creative Commons\" style=\"border-width:0;float:right;\" src=\"https://i.creativecommons.org/l/by/4.0/88x31.png\" /></a><br />This work is licensed under a <a rel=\"license\" href=\"http://creativecommons.org/licenses/by/4.0/\">Creative Commons Attribution 4.0 International Licence</a>."
   ]
  },
  {
   "cell_type": "markdown",
   "metadata": {},
   "source": [
    "# 1 Opérateurs\n",
    "## 1.1 Opérateurs arithmétiques\n",
    "### 1.1.1 Addition\n",
    "Il est possible d'aditionner toutes sortes de choses. Des entiers bien sûr:"
   ]
  },
  {
   "cell_type": "code",
   "execution_count": 10,
   "metadata": {},
   "outputs": [
    {
     "data": {
      "text/plain": [
       "2"
      ]
     },
     "execution_count": 10,
     "metadata": {},
     "output_type": "execute_result"
    }
   ],
   "source": [
    "1+1"
   ]
  },
  {
   "cell_type": "markdown",
   "metadata": {},
   "source": [
    "Des flottants:"
   ]
  },
  {
   "cell_type": "code",
   "execution_count": 11,
   "metadata": {},
   "outputs": [
    {
     "data": {
      "text/plain": [
       "2.3"
      ]
     },
     "execution_count": 11,
     "metadata": {},
     "output_type": "execute_result"
    }
   ],
   "source": [
    "1.1+1.2"
   ]
  },
  {
   "cell_type": "markdown",
   "metadata": {},
   "source": [
    "Un entier avec un flottant"
   ]
  },
  {
   "cell_type": "code",
   "execution_count": 12,
   "metadata": {},
   "outputs": [
    {
     "data": {
      "text/plain": [
       "2.1"
      ]
     },
     "execution_count": 12,
     "metadata": {},
     "output_type": "execute_result"
    }
   ],
   "source": [
    "1.1+1"
   ]
  },
  {
   "cell_type": "markdown",
   "metadata": {},
   "source": [
    " (le résultat est alors un flottant)"
   ]
  },
  {
   "cell_type": "code",
   "execution_count": 13,
   "metadata": {},
   "outputs": [
    {
     "data": {
      "text/plain": [
       "float"
      ]
     },
     "execution_count": 13,
     "metadata": {},
     "output_type": "execute_result"
    }
   ],
   "source": [
    "type(1.1+1)"
   ]
  },
  {
   "cell_type": "markdown",
   "metadata": {},
   "source": [
    "Et même, on l'a vu, des caractères:"
   ]
  },
  {
   "cell_type": "code",
   "execution_count": 28,
   "metadata": {},
   "outputs": [
    {
     "data": {
      "text/plain": [
       "'ab'"
      ]
     },
     "execution_count": 28,
     "metadata": {},
     "output_type": "execute_result"
    }
   ],
   "source": [
    "\"a\"+\"b\""
   ]
  },
  {
   "cell_type": "markdown",
   "metadata": {},
   "source": [
    "Il existe cependant certaines limites, plus logiques qu'informatiques. Il est ainsi impossible d'additionner des caractères et des chiffres"
   ]
  },
  {
   "cell_type": "code",
   "execution_count": 29,
   "metadata": {},
   "outputs": [
    {
     "ename": "TypeError",
     "evalue": "can only concatenate str (not \"int\") to str",
     "output_type": "error",
     "traceback": [
      "\u001b[0;31m---------------------------------------------------------------------------\u001b[0m",
      "\u001b[0;31mTypeError\u001b[0m                                 Traceback (most recent call last)",
      "\u001b[0;32m<ipython-input-29-e29823995ef5>\u001b[0m in \u001b[0;36m<module>\u001b[0;34m\u001b[0m\n\u001b[0;32m----> 1\u001b[0;31m \u001b[0;34m\"a\"\u001b[0m\u001b[0;34m+\u001b[0m\u001b[0;36m1\u001b[0m\u001b[0;34m\u001b[0m\u001b[0;34m\u001b[0m\u001b[0m\n\u001b[0m",
      "\u001b[0;31mTypeError\u001b[0m: can only concatenate str (not \"int\") to str"
     ]
    }
   ],
   "source": [
    "\"a\"+1"
   ]
  },
  {
   "cell_type": "markdown",
   "metadata": {},
   "source": [
    "Une solution serait de convertir le chiffre en caractère puis de l'additioner avec l'autre caractère"
   ]
  },
  {
   "cell_type": "code",
   "execution_count": 55,
   "metadata": {},
   "outputs": [
    {
     "data": {
      "text/plain": [
       "'a1'"
      ]
     },
     "execution_count": 55,
     "metadata": {},
     "output_type": "execute_result"
    }
   ],
   "source": [
    "\"a\"+str(1)"
   ]
  },
  {
   "cell_type": "markdown",
   "metadata": {},
   "source": [
    "### 1.1.2 Soustraction\n",
    "Il est aussi possible de faire des soustractions avec le signe `-`"
   ]
  },
  {
   "cell_type": "code",
   "execution_count": 156,
   "metadata": {},
   "outputs": [
    {
     "name": "stdout",
     "output_type": "stream",
     "text": [
      "3\n",
      "6.1\n",
      "5.6\n"
     ]
    }
   ],
   "source": [
    "soustraction_entier = 5 - 2 # avec des entiers\n",
    "soustraction_flottant1 = 8.5 - 2.4 # avec des flottants\n",
    "soustraction_flottant2 = 8 - 2.4 # avec un entier et un flottant, le résultat étant un flottant\n",
    "# J'affiche toutes mes variables, en les séparant avec une regex\n",
    "print(soustraction_entier, soustraction_flottant1, soustraction_flottant2, sep=\"\\n\")"
   ]
  },
  {
   "cell_type": "markdown",
   "metadata": {},
   "source": [
    "La soustraction, comme les autres opérations, ne peut en revanche s'appliquer aux caractères"
   ]
  },
  {
   "cell_type": "code",
   "execution_count": 157,
   "metadata": {},
   "outputs": [
    {
     "ename": "TypeError",
     "evalue": "unsupported operand type(s) for -: 'str' and 'str'",
     "output_type": "error",
     "traceback": [
      "\u001b[0;31m---------------------------------------------------------------------------\u001b[0m",
      "\u001b[0;31mTypeError\u001b[0m                                 Traceback (most recent call last)",
      "\u001b[0;32m<ipython-input-157-e0cf1138dd85>\u001b[0m in \u001b[0;36m<module>\u001b[0;34m\u001b[0m\n\u001b[0;32m----> 1\u001b[0;31m \u001b[0;34m\"a\"\u001b[0m\u001b[0;34m-\u001b[0m\u001b[0;34m\"b\"\u001b[0m\u001b[0;34m\u001b[0m\u001b[0;34m\u001b[0m\u001b[0m\n\u001b[0m",
      "\u001b[0;31mTypeError\u001b[0m: unsupported operand type(s) for -: 'str' and 'str'"
     ]
    }
   ],
   "source": [
    "\"a\"-\"b\""
   ]
  },
  {
   "cell_type": "markdown",
   "metadata": {},
   "source": [
    "Les opérateurs booléens ayant une valeur de `0` (`False`) ou de `1` (`True`) il est possible de les utiliser comme des chiffres"
   ]
  },
  {
   "cell_type": "code",
   "execution_count": 158,
   "metadata": {},
   "outputs": [
    {
     "data": {
      "text/plain": [
       "4"
      ]
     },
     "execution_count": 158,
     "metadata": {},
     "output_type": "execute_result"
    }
   ],
   "source": [
    "5- True"
   ]
  },
  {
   "cell_type": "markdown",
   "metadata": {},
   "source": [
    "et"
   ]
  },
  {
   "cell_type": "code",
   "execution_count": 159,
   "metadata": {},
   "outputs": [
    {
     "data": {
      "text/plain": [
       "4.2"
      ]
     },
     "execution_count": 159,
     "metadata": {},
     "output_type": "execute_result"
    }
   ],
   "source": [
    "4.2+ False"
   ]
  },
  {
   "cell_type": "markdown",
   "metadata": {},
   "source": [
    "### 1.1.3 Multiplication\n",
    "La multiplication se fait avec le signe `*`"
   ]
  },
  {
   "cell_type": "code",
   "execution_count": 160,
   "metadata": {},
   "outputs": [
    {
     "name": "stdout",
     "output_type": "stream",
     "text": [
      "10\n",
      "20.4\n",
      "19.2\n"
     ]
    }
   ],
   "source": [
    "multiplication_entier = 5 * 2 # avec des entiers\n",
    "multiplication_flottant1 = 8.5 * 2.4 # avec des flottants\n",
    "multiplication_flottant2 = 8 * 2.4 # avec un entier et un flottant, le résultat étant un flottant\n",
    "# J'affiche toutes mes variables, en les séparant avec une regex\n",
    "print(multiplication_entier, multiplication_flottant1, multiplication_flottant2, sep=\"\\n\")"
   ]
  },
  {
   "cell_type": "markdown",
   "metadata": {},
   "source": [
    "Encore une fois, il n'est pas possible de multiplier les caractères"
   ]
  },
  {
   "cell_type": "code",
   "execution_count": 161,
   "metadata": {},
   "outputs": [
    {
     "ename": "TypeError",
     "evalue": "can't multiply sequence by non-int of type 'str'",
     "output_type": "error",
     "traceback": [
      "\u001b[0;31m---------------------------------------------------------------------------\u001b[0m",
      "\u001b[0;31mTypeError\u001b[0m                                 Traceback (most recent call last)",
      "\u001b[0;32m<ipython-input-161-4a2907541deb>\u001b[0m in \u001b[0;36m<module>\u001b[0;34m\u001b[0m\n\u001b[0;32m----> 1\u001b[0;31m \u001b[0;34m\"a\"\u001b[0m\u001b[0;34m*\u001b[0m\u001b[0;34m\"b\"\u001b[0m\u001b[0;34m\u001b[0m\u001b[0;34m\u001b[0m\u001b[0m\n\u001b[0m",
      "\u001b[0;31mTypeError\u001b[0m: can't multiply sequence by non-int of type 'str'"
     ]
    }
   ],
   "source": [
    "\"a\"*\"b\""
   ]
  },
  {
   "cell_type": "markdown",
   "metadata": {},
   "source": [
    "Il est en revanche possible de multiplier des caractères avec des entiers"
   ]
  },
  {
   "cell_type": "code",
   "execution_count": 162,
   "metadata": {},
   "outputs": [
    {
     "data": {
      "text/plain": [
       "'abc abc abc abc abc abc abc abc abc abc abc abc '"
      ]
     },
     "execution_count": 162,
     "metadata": {},
     "output_type": "execute_result"
    }
   ],
   "source": [
    "\"abc \" *12"
   ]
  },
  {
   "cell_type": "markdown",
   "metadata": {},
   "source": [
    "Mais pas il est impossible de multiplier des caractères avec des flottants:"
   ]
  },
  {
   "cell_type": "code",
   "execution_count": 215,
   "metadata": {},
   "outputs": [
    {
     "ename": "TypeError",
     "evalue": "can't multiply sequence by non-int of type 'float'",
     "output_type": "error",
     "traceback": [
      "\u001b[0;31m---------------------------------------------------------------------------\u001b[0m",
      "\u001b[0;31mTypeError\u001b[0m                                 Traceback (most recent call last)",
      "\u001b[0;32m<ipython-input-215-c4b7183fb9c3>\u001b[0m in \u001b[0;36m<module>\u001b[0;34m\u001b[0m\n\u001b[0;32m----> 1\u001b[0;31m \u001b[0;34m\"a\"\u001b[0m\u001b[0;34m*\u001b[0m\u001b[0;36m2.1\u001b[0m\u001b[0;34m\u001b[0m\u001b[0;34m\u001b[0m\u001b[0m\n\u001b[0m",
      "\u001b[0;31mTypeError\u001b[0m: can't multiply sequence by non-int of type 'float'"
     ]
    }
   ],
   "source": [
    "\"a\"*2.1"
   ]
  },
  {
   "cell_type": "markdown",
   "metadata": {},
   "source": [
    "Il existe un type particulier de multiplication: l'exposant. En effet 5<sup>4</sup> (\"5 puissance 4\") revient à faire une série de multiplications:"
   ]
  },
  {
   "cell_type": "code",
   "execution_count": 216,
   "metadata": {},
   "outputs": [
    {
     "data": {
      "text/plain": [
       "625"
      ]
     },
     "execution_count": 216,
     "metadata": {},
     "output_type": "execute_result"
    }
   ],
   "source": [
    "5*5*5*5"
   ]
  },
  {
   "cell_type": "markdown",
   "metadata": {},
   "source": [
    "Il est possible de noter \"puissance\" avec le signe `**`"
   ]
  },
  {
   "cell_type": "code",
   "execution_count": 217,
   "metadata": {},
   "outputs": [
    {
     "data": {
      "text/plain": [
       "625"
      ]
     },
     "execution_count": 217,
     "metadata": {},
     "output_type": "execute_result"
    }
   ],
   "source": [
    "5**4"
   ]
  },
  {
   "cell_type": "markdown",
   "metadata": {},
   "source": [
    "### 1.1.4 Division et reste\n",
    "La division est faite avec l'opérateur `/`"
   ]
  },
  {
   "cell_type": "code",
   "execution_count": 218,
   "metadata": {},
   "outputs": [
    {
     "name": "stdout",
     "output_type": "stream",
     "text": [
      "2.5\n",
      "3.541666666666667\n",
      "3.3333333333333335\n"
     ]
    }
   ],
   "source": [
    "division_entier = 5 / 2 # avec des entiers\n",
    "division_flottant1 = 8.5 / 2.4 # avec des flottants\n",
    "division_flottant2 = 8 / 2.4 # avec un entier et un flottant, le résultat étant un flottant\n",
    "# J'affiche toutes mes variables, en les séparant avec une regex\n",
    "print(division_entier, division_flottant1, division_flottant2, sep=\"\\n\")"
   ]
  },
  {
   "cell_type": "markdown",
   "metadata": {},
   "source": [
    "Dans certains cas, il peut être utile de savoir que le résultat sera forcément un entier. Pour ce faire nous pouvons utiliser le signe `//` qui permet de faire une _division tronquée_"
   ]
  },
  {
   "cell_type": "code",
   "execution_count": 219,
   "metadata": {},
   "outputs": [
    {
     "name": "stdout",
     "output_type": "stream",
     "text": [
      "2\n",
      "3\n",
      "1.0\n"
     ]
    }
   ],
   "source": [
    "division_tronquee1 = 5 // 2 # avec des entiers\n",
    "division_tronquee2 = 10 // 3 # avec des flottants\n",
    "division_tronquee3 = 10.2 // 8 # avec un entier et un flottant, le résultat étant un flottant\n",
    "# J'affiche toutes mes variables, en les séparant avec une regex\n",
    "print(division_tronquee1, division_tronquee2, division_tronquee3, sep=\"\\n\")"
   ]
  },
  {
   "cell_type": "markdown",
   "metadata": {},
   "source": [
    "Je peux aussi récupérer ce qui a été perdu au passage, le _reste_ ou (<i>modulo</i>) , avec le signe `%`.\n",
    "Par exemple"
   ]
  },
  {
   "cell_type": "code",
   "execution_count": 220,
   "metadata": {},
   "outputs": [
    {
     "data": {
      "text/plain": [
       "0"
      ]
     },
     "execution_count": 220,
     "metadata": {},
     "output_type": "execute_result"
    }
   ],
   "source": [
    "6 % 3"
   ]
  },
  {
   "cell_type": "markdown",
   "metadata": {},
   "source": [
    "Car `6 = 3 * 2 + 0`. Mais en revanche:"
   ]
  },
  {
   "cell_type": "code",
   "execution_count": 221,
   "metadata": {},
   "outputs": [
    {
     "data": {
      "text/plain": [
       "1"
      ]
     },
     "execution_count": 221,
     "metadata": {},
     "output_type": "execute_result"
    }
   ],
   "source": [
    "10 % 3"
   ]
  },
  {
   "cell_type": "markdown",
   "metadata": {},
   "source": [
    "Car `10 = 3 * 3 + 1`"
   ]
  },
  {
   "cell_type": "markdown",
   "metadata": {},
   "source": [
    "## 1.2 Opérateurs de comparaison\n",
    "Ces opérateurs renvoient une valeur booléenne: `true` ou bien `False`\n",
    "### 1.2.1 Opérateur d'égalité\n",
    "On se rappelle que le signe `=` permet d'assigner une valeur à une variable:\n",
    "```python\n",
    "variable=\"valeur\"\n",
    "```\n",
    "Il nous faut donc avoir recours à un autre signe: ce sera `==`"
   ]
  },
  {
   "cell_type": "code",
   "execution_count": 222,
   "metadata": {},
   "outputs": [
    {
     "data": {
      "text/plain": [
       "True"
      ]
     },
     "execution_count": 222,
     "metadata": {},
     "output_type": "execute_result"
    }
   ],
   "source": [
    "\"a\" == \"a\""
   ]
  },
  {
   "cell_type": "code",
   "execution_count": 223,
   "metadata": {},
   "outputs": [
    {
     "data": {
      "text/plain": [
       "True"
      ]
     },
     "execution_count": 223,
     "metadata": {},
     "output_type": "execute_result"
    }
   ],
   "source": [
    "True == True"
   ]
  },
  {
   "cell_type": "code",
   "execution_count": 224,
   "metadata": {},
   "outputs": [
    {
     "data": {
      "text/plain": [
       "True"
      ]
     },
     "execution_count": 224,
     "metadata": {},
     "output_type": "execute_result"
    }
   ],
   "source": [
    "1==1"
   ]
  },
  {
   "cell_type": "markdown",
   "metadata": {},
   "source": [
    "Notons que si l'on peut comparer un entier avec un flottant"
   ]
  },
  {
   "cell_type": "code",
   "execution_count": 225,
   "metadata": {},
   "outputs": [
    {
     "data": {
      "text/plain": [
       "True"
      ]
     },
     "execution_count": 225,
     "metadata": {},
     "output_type": "execute_result"
    }
   ],
   "source": [
    "2 == 2.0"
   ]
  },
  {
   "cell_type": "markdown",
   "metadata": {},
   "source": [
    "On peut aussi comparer un entier avec le caractère équivalent, mais le résultat est faux"
   ]
  },
  {
   "cell_type": "code",
   "execution_count": 226,
   "metadata": {},
   "outputs": [
    {
     "data": {
      "text/plain": [
       "False"
      ]
     },
     "execution_count": 226,
     "metadata": {},
     "output_type": "execute_result"
    }
   ],
   "source": [
    "2 == \"2\""
   ]
  },
  {
   "cell_type": "markdown",
   "metadata": {},
   "source": [
    "### 1.2.2 Opérateur d'inégalité\n",
    "L'inverse de `==` est `!=`"
   ]
  },
  {
   "cell_type": "code",
   "execution_count": 227,
   "metadata": {},
   "outputs": [
    {
     "data": {
      "text/plain": [
       "False"
      ]
     },
     "execution_count": 227,
     "metadata": {},
     "output_type": "execute_result"
    }
   ],
   "source": [
    "\"a\" != \"a\""
   ]
  },
  {
   "cell_type": "code",
   "execution_count": 228,
   "metadata": {},
   "outputs": [
    {
     "data": {
      "text/plain": [
       "True"
      ]
     },
     "execution_count": 228,
     "metadata": {},
     "output_type": "execute_result"
    }
   ],
   "source": [
    "True != False"
   ]
  },
  {
   "cell_type": "markdown",
   "metadata": {},
   "source": [
    "### 1.2.3 Opérateur de supériorité et d'infériorité (stricte ou non)\n",
    "Comme en mathématiques on utilise les signes `>` et `<` pour la supériorité et l'infériorité stricte"
   ]
  },
  {
   "cell_type": "code",
   "execution_count": 229,
   "metadata": {},
   "outputs": [
    {
     "data": {
      "text/plain": [
       "True"
      ]
     },
     "execution_count": 229,
     "metadata": {},
     "output_type": "execute_result"
    }
   ],
   "source": [
    "1<2"
   ]
  },
  {
   "cell_type": "code",
   "execution_count": 230,
   "metadata": {},
   "outputs": [
    {
     "data": {
      "text/plain": [
       "True"
      ]
     },
     "execution_count": 230,
     "metadata": {},
     "output_type": "execute_result"
    }
   ],
   "source": [
    "10>2"
   ]
  },
  {
   "cell_type": "code",
   "execution_count": 231,
   "metadata": {},
   "outputs": [
    {
     "data": {
      "text/plain": [
       "False"
      ]
     },
     "execution_count": 231,
     "metadata": {},
     "output_type": "execute_result"
    }
   ],
   "source": [
    "2>5"
   ]
  },
  {
   "cell_type": "markdown",
   "metadata": {},
   "source": [
    "Cet opérateur de comparaison vaut aussi pour les chaînes de caractères, dont on compare **le classement alphabétique** (et non le nombre de caractères)"
   ]
  },
  {
   "cell_type": "code",
   "execution_count": 232,
   "metadata": {},
   "outputs": [
    {
     "data": {
      "text/plain": [
       "True"
      ]
     },
     "execution_count": 232,
     "metadata": {},
     "output_type": "execute_result"
    }
   ],
   "source": [
    "\"abcefghij\" < \"bcd\""
   ]
  },
  {
   "cell_type": "markdown",
   "metadata": {},
   "source": [
    "Il est possible d'utilise un comparateur de supériorité et d'infériorité non-stricte: `>=` (supérieur ou égal) et `<=` (inférieur ou égal), ainsi"
   ]
  },
  {
   "cell_type": "code",
   "execution_count": 233,
   "metadata": {},
   "outputs": [
    {
     "data": {
      "text/plain": [
       "False"
      ]
     },
     "execution_count": 233,
     "metadata": {},
     "output_type": "execute_result"
    }
   ],
   "source": [
    "4>4"
   ]
  },
  {
   "cell_type": "markdown",
   "metadata": {},
   "source": [
    "mais"
   ]
  },
  {
   "cell_type": "code",
   "execution_count": 234,
   "metadata": {},
   "outputs": [
    {
     "data": {
      "text/plain": [
       "True"
      ]
     },
     "execution_count": 234,
     "metadata": {},
     "output_type": "execute_result"
    }
   ],
   "source": [
    "4>=4"
   ]
  },
  {
   "cell_type": "markdown",
   "metadata": {},
   "source": [
    "## 1.3 Opérateurs booléens\n",
    "(Source image: <a href=\"https://paris-sorbonne.libguides.com/google\" target=\"_blank\">https://paris-sorbonne.libguides.com</a>)\n",
    "\n",
    "Ce sont des opérateurs qui permettent d'expliciter ou de préciser les opérateurs de comparaison. On en compte trois:\n",
    "\n",
    "<img src=\"images/OpBooleen.jpg\" style width=\"50%\">\n",
    "\n",
    "### 1.3.1 `not`\n",
    "`not` permet d'inverser le résultat de la comparaison"
   ]
  },
  {
   "cell_type": "code",
   "execution_count": 235,
   "metadata": {},
   "outputs": [
    {
     "data": {
      "text/plain": [
       "False"
      ]
     },
     "execution_count": 235,
     "metadata": {},
     "output_type": "execute_result"
    }
   ],
   "source": [
    "\"a\" != \"a\""
   ]
  },
  {
   "cell_type": "code",
   "execution_count": 236,
   "metadata": {},
   "outputs": [
    {
     "data": {
      "text/plain": [
       "False"
      ]
     },
     "execution_count": 236,
     "metadata": {},
     "output_type": "execute_result"
    }
   ],
   "source": [
    "not \"a\" == \"a\""
   ]
  },
  {
   "cell_type": "markdown",
   "metadata": {},
   "source": [
    "### 1.3.1 `and`\n",
    "`and` permet de garantir que toutes les conditions testées sont vraies"
   ]
  },
  {
   "cell_type": "code",
   "execution_count": 237,
   "metadata": {},
   "outputs": [
    {
     "data": {
      "text/plain": [
       "False"
      ]
     },
     "execution_count": 237,
     "metadata": {},
     "output_type": "execute_result"
    }
   ],
   "source": [
    "True and False"
   ]
  },
  {
   "cell_type": "code",
   "execution_count": 238,
   "metadata": {},
   "outputs": [
    {
     "data": {
      "text/plain": [
       "True"
      ]
     },
     "execution_count": 238,
     "metadata": {},
     "output_type": "execute_result"
    }
   ],
   "source": [
    "True and True"
   ]
  },
  {
   "cell_type": "code",
   "execution_count": 239,
   "metadata": {},
   "outputs": [
    {
     "data": {
      "text/plain": [
       "True"
      ]
     },
     "execution_count": 239,
     "metadata": {},
     "output_type": "execute_result"
    }
   ],
   "source": [
    "\"abc\" == \"abc\" and 32 <= 45.897"
   ]
  },
  {
   "cell_type": "markdown",
   "metadata": {},
   "source": [
    "### 1.3.1 `or`\n",
    "`and` permet de garantir qu'au moins une des conditions testées est vraie"
   ]
  },
  {
   "cell_type": "code",
   "execution_count": 240,
   "metadata": {},
   "outputs": [
    {
     "data": {
      "text/plain": [
       "True"
      ]
     },
     "execution_count": 240,
     "metadata": {},
     "output_type": "execute_result"
    }
   ],
   "source": [
    "True or False"
   ]
  },
  {
   "cell_type": "code",
   "execution_count": 250,
   "metadata": {},
   "outputs": [
    {
     "data": {
      "text/plain": [
       "True"
      ]
     },
     "execution_count": 250,
     "metadata": {},
     "output_type": "execute_result"
    }
   ],
   "source": [
    "True and True"
   ]
  },
  {
   "cell_type": "code",
   "execution_count": 251,
   "metadata": {},
   "outputs": [
    {
     "data": {
      "text/plain": [
       "True"
      ]
     },
     "execution_count": 251,
     "metadata": {},
     "output_type": "execute_result"
    }
   ],
   "source": [
    "\"abc\" != \"bcd\" or 32 <= (45.897+(3**5))/2"
   ]
  },
  {
   "cell_type": "markdown",
   "metadata": {},
   "source": [
    "# 2. Les structures de contrôle\n",
    "\n",
    "## 2.0 Le pseudo-code\n",
    "\n",
    "Il est possible d'utiliser du pseudo-code pour réfléchir à la fabrication d'algorithme. On parle de LDA (Langage de Description d'Algorithmes), qui est une façon de décrire un algorithme en langage presque naturel.\n",
    "\n",
    "On va d'abord détailler le problème à résoudre en en faisant l'analyse. La règle est simple: une ligne, une instruction:\n",
    "\n",
    "```console\n",
    "première instruction\n",
    "deuxième instruction\n",
    "troisième instruction\n",
    "…\n",
    "dernière instruction\n",
    "```\n",
    "\n",
    "Dans un second temps il est possible de reprendre le même problème en se rapprochant d'un langage de programmation et en utilisant des rudiments de code (si, alors, sinon, pour chaque…)\n",
    "\n",
    "Exemple: demander deux nombres et les afficher ensuite dans l'ordre croissant.\n",
    "\n",
    "Analyse:\n",
    "```\n",
    "introduire a,b\n",
    "si a < b afficher a et b sinon afficher b et a\n",
    "```\n",
    "\n",
    "L'algorithme serait le suivant:\n",
    "\n",
    "```\n",
    "Variable n1, n2 en Entier\n",
    "début\n",
    " ecrire \"n1,n2 ?\"\n",
    " entrer n1,n2\n",
    " lire n1,n2\n",
    " ecrire \"par ordre croissant\"\n",
    " si n1<n2 alors\n",
    "  ecrire n1,\" \",n2\n",
    " sinon\n",
    "  ecrire n2,\" \",n1\n",
    " fsi\n",
    "Fin\n",
    "```\n",
    "\n",
    "## 2.1 Les structures de test\n",
    "### 2.1.1 `if`\n",
    "<img src=\"images/if-statement.jpg\" style =\"float:right;\" width=\"30%\">\n",
    "<a href=\"https://www.geeksforgeeks.org/python-if-else/\" target=\"_blank\">Source image</a>\n",
    "\n",
    "Il existe plusieurs structures de test possible. La plus simple est la suivante:\n",
    "```\n",
    "Si booléen Alors\n",
    "    Instructions\n",
    "Finsi\n",
    "```\n",
    "\n",
    "Les informaticiens ont l'habitude de représenter ce type de problème sous la forme de _<a href=\"https://en.wikipedia.org/wiki/Flowchart\" target=\"_blank\">Flowchart</a>_ :\n",
    "* La flèche représente le processus, la _Flowline_\n",
    "* Le losange symbolise un point de décision dans le processus\n",
    "* Le rectangle représente un événement contrôlé dans le processus\n",
    "\n",
    "Par exemple:\n",
    "```\n",
    "Variable note, moyenne en Entier\n",
    "Début\n",
    "Si note>moyenne Alors\n",
    "    ecrire \"bravo!\"\n",
    "Finsi\n",
    "Fin\n",
    "```\n",
    "Soit en python (vous pouvez/devez jouer avec la variable _note_ évidemment):"
   ]
  },
  {
   "cell_type": "code",
   "execution_count": 252,
   "metadata": {},
   "outputs": [],
   "source": [
    "note=2\n",
    "moyenne=3\n",
    "if note>moyenne:\n",
    "    print(\"bravo!\")"
   ]
  },
  {
   "cell_type": "markdown",
   "metadata": {},
   "source": [
    "### 2.1.2  `else`\n",
    "<img src=\"images/if-else.jpg\" style =\"float:right;\" width=\"24%\">\n",
    "\n",
    "Mais que ce passe-t-il si la note est supérieure à la moyenne? Il faut envisager une structure de test un peu plus complexe que la précédente:\n",
    "```\n",
    "Si booléen Alors\n",
    "    Instructions 1\n",
    "Sinon\n",
    "    Instructions 2\n",
    "Finsi\n",
    "```\n",
    "\n",
    "Ainsi\n",
    "\n",
    "```\n",
    "Variable note, moyenne en Entier\n",
    "Début\n",
    "Si note>moyenne Alors\n",
    "    ecrire \"bravo!\"\n",
    "Sinon\n",
    "    ecrire \"échec…\"\n",
    "Finsi\n",
    "Fin\n",
    "```\n",
    "\n",
    "Soit en python (vous pouvez/devez jouer avec la variable _note_ évidemment)"
   ]
  },
  {
   "cell_type": "code",
   "execution_count": 253,
   "metadata": {},
   "outputs": [
    {
     "name": "stdout",
     "output_type": "stream",
     "text": [
      "échec\n"
     ]
    }
   ],
   "source": [
    "note=2\n",
    "moyenne=3\n",
    "if note>moyenne:\n",
    "    print(\"bravo!\")\n",
    "else:\n",
    "    print(\"échec\")"
   ]
  },
  {
   "cell_type": "markdown",
   "metadata": {},
   "source": [
    "### 2.1.3 Test imbriqué\n",
    "<img src=\"images/Nested_if.jpg\" style =\"float:right;\" width=\"50%\">\n",
    "\n",
    "Il est aussi possible de faire des tests imbriqués:\n",
    "```\n",
    "Si booléen Alors\n",
    "    Instructions 1\n",
    "Sinon\n",
    "    Si booléen Alors\n",
    "        Instructions 2\n",
    "    Si booléen Alors\n",
    "        Instructions 3\n",
    "Finsi\n",
    "```\n",
    "\n",
    "Ainsi\n",
    "\n",
    "```\n",
    "Variable note, moyenne, mention en Entier\n",
    "Début\n",
    "Si note>moyenne Alors\n",
    "    Si note<mention Alors\n",
    "        ecrire \"bien!\"\n",
    "    Sinon\n",
    "        ecrire \"Félicitations!\"\n",
    "Sinon\n",
    "    ecrire \"échec\"\n",
    "Finsi\n",
    "Fin\n",
    "```\n",
    "\n",
    "Soit en python (vous pouvez/devez jouer avec la variable _note_ évidemment)"
   ]
  },
  {
   "cell_type": "code",
   "execution_count": 254,
   "metadata": {},
   "outputs": [
    {
     "name": "stdout",
     "output_type": "stream",
     "text": [
      "félicitations!\n"
     ]
    }
   ],
   "source": [
    "note=5\n",
    "moyenne=3\n",
    "mention=5\n",
    "if note>moyenne:\n",
    "    if note<mention:\n",
    "        print(\"bien!\")\n",
    "    else:\n",
    "        print(\"félicitations!\")\n",
    "else:\n",
    "    print(\"échec\")"
   ]
  },
  {
   "cell_type": "markdown",
   "metadata": {},
   "source": [
    "### 2.1.4 `elif`\n",
    "<img src=\"images/if-elseif-ladder.jpg\" style =\"float:right;\" width=\"50%\">\n",
    "\n",
    "Il est aussi possible de faire des tests imbriqués:\n",
    "```\n",
    "Si booléen Alors\n",
    "    Instructions 1\n",
    "SinonSi booléen Alors\n",
    "    Instructions 2\n",
    "Sinon booléen Alors\n",
    "    Instructions 3\n",
    "Finsi\n",
    "```\n",
    "\n",
    "Ainsi\n",
    "\n",
    "```\n",
    "Variable note, moyenne, mention en Entier\n",
    "Début\n",
    "Si note<moyenne Alors\n",
    "    ecrire \"échec\"\n",
    "SinonSi note>moyenne et note<mention Alors\n",
    "    ecrire \"bien!\"\n",
    "Sinon\n",
    "    ecrire \"Félicitations!\"\n",
    "Finsi\n",
    "Fin\n",
    "```\n",
    "\n",
    "Soit en python (vous pouvez/devez jouer avec la variable _note_ évidemment)"
   ]
  },
  {
   "cell_type": "code",
   "execution_count": 272,
   "metadata": {},
   "outputs": [
    {
     "name": "stdout",
     "output_type": "stream",
     "text": [
      "bien!\n"
     ]
    }
   ],
   "source": [
    "note=4.5\n",
    "moyenne=3\n",
    "mention=5\n",
    "if note<moyenne:\n",
    "    print(\"échec\")\n",
    "elif note>=moyenne and note<mention:\n",
    "    print(\"bien!\")\n",
    "else:\n",
    "    print(\"félicitations!\")"
   ]
  },
  {
   "cell_type": "markdown",
   "metadata": {},
   "source": [
    "### 2.1.4 Remarque importante\n",
    "Tentez de faire fonctionner ce morceau de code (analysz l'erreur)"
   ]
  },
  {
   "cell_type": "code",
   "execution_count": 273,
   "metadata": {},
   "outputs": [
    {
     "ename": "IndentationError",
     "evalue": "expected an indented block (<ipython-input-273-bae240831a93>, line 5)",
     "output_type": "error",
     "traceback": [
      "\u001b[0;36m  File \u001b[0;32m\"<ipython-input-273-bae240831a93>\"\u001b[0;36m, line \u001b[0;32m5\u001b[0m\n\u001b[0;31m    print(\"échec\")\u001b[0m\n\u001b[0m        ^\u001b[0m\n\u001b[0;31mIndentationError\u001b[0m\u001b[0;31m:\u001b[0m expected an indented block\n"
     ]
    }
   ],
   "source": [
    "note=4.5\n",
    "moyenne=3\n",
    "mention=5\n",
    "if note<moyenne:\n",
    "print(\"échec\")\n",
    "elif note>=moyenne and note<mention:\n",
    "print(\"bien!\")\n",
    "else:\n",
    "print(\"félicitations!\")"
   ]
  },
  {
   "cell_type": "markdown",
   "metadata": {},
   "source": [
    "<b>Remarque importante: vous avez vu que le code est indenté. En python, conrtairement à d'autres langages, c'est une obligation. Il s'agit soit d'une tabulation, soit de quatre espaces.</b>\n",
    "```python\n",
    "if a is True:\n",
    "    if b is True:\n",
    "        if c is False:\n",
    "            ...\n",
    "        else:\n",
    "            ...\n",
    "else:\n",
    "    ...\n",
    "```\n",
    "Ainsi ce code fonctionne\n"
   ]
  },
  {
   "cell_type": "markdown",
   "metadata": {},
   "source": [
    "### 2.1.5 Exercices\n",
    "Pour être vraiment fonctionnel, le programme devrait être le suivant:"
   ]
  },
  {
   "cell_type": "markdown",
   "metadata": {},
   "source": [
    "1. Ecrire un algorithme qui demande un nombre à l’utilisateur, et l’informe ensuite si ce nombre est positif ou négatif (on laisse de côté le cas où le nombre vaut zéro).\n",
    "2. Ecrire un algorithme qui demande deux nombres à l’utilisateur et l’informe ensuite si leur produit est négatif ou positif (on laisse de côté le cas où le produit est nul). Attention toutefois : on ne doit pas calculer le produit des deux nombres.\n",
    "3. Ecrire un algorithme qui demande trois noms à l’utilisateur et l’informe ensuite s’ils sont rangés ou non dans l’ordre alphabétique.\n",
    "4. Tentez d'écrire l'algorithme de ce code!"
   ]
  },
  {
   "cell_type": "code",
   "execution_count": 276,
   "metadata": {},
   "outputs": [
    {
     "name": "stdout",
     "output_type": "stream",
     "text": [
      "Entrez la note: 3\n",
      "bien!\n"
     ]
    }
   ],
   "source": [
    "note = int(input('Entrez la note: '))\n",
    "moyenne=3\n",
    "mention=5\n",
    "def reussite(n):\n",
    "    if note<moyenne:\n",
    "        print(\"échec!\")    \n",
    "    elif note>=moyenne and note<mention:\n",
    "        print(\"bien!\")\n",
    "    else:\n",
    "        print(\"félicitations!\")\n",
    "\n",
    "reussite(note)"
   ]
  },
  {
   "cell_type": "markdown",
   "metadata": {},
   "source": [
    "_\n",
    "\n",
    "\n",
    "_\n",
    "\n",
    "_\n",
    "\n",
    "_\n",
    "\n",
    "_\n",
    "\n",
    "_\n",
    "\n",
    "_\n",
    "\n",
    "_\n",
    "\n",
    "_\n",
    "\n",
    "_\n",
    "\n",
    "_\n",
    "\n",
    "_\n",
    "\n",
    "_\n",
    "\n",
    "Solution:\n",
    "1. \n",
    "```\n",
    "Variable n en Entier\n",
    "Début\n",
    "Ecrire \"Entrez un nombre : \"\n",
    "Lire n\n",
    "Si n > 0 Alors\n",
    "  Ecrire \"Ce nombre est positif”\n",
    "Sinon\n",
    "  Ecrire \"Ce nombre est négatif\"\n",
    "Finsi\n",
    "Fin\n",
    "```\n",
    "2. \n",
    "```\n",
    " Variables m, n en Entier\n",
    "Début\n",
    "Ecrire \"Entrez deux nombres : \"\n",
    "Lire m, n\n",
    "Si (m > 0 ET n > 0) OU (m < 0 ET n < 0) Alors\n",
    "  Ecrire \"Leur produit est positif\"\n",
    "Sinon\n",
    "  Ecrire \"Leur produit est négatif\"\n",
    "Finsi\n",
    "Fin\n",
    "```\n",
    "3. \n",
    "```\n",
    " Variables a, b, c en Caractère\n",
    "Début\n",
    "Ecrire \"Entrez successivement trois noms : \"\n",
    "Lire a, b, c\n",
    "Si a < b ET b < c Alors\n",
    "  Ecrire \"Ces noms sont classés alphabétiquement\"\n",
    "Sinon\n",
    "  Ecrire \"Ces noms ne sont pas classés\"\n",
    "Finsi\n",
    "Fin\n",
    "```"
   ]
  },
  {
   "cell_type": "markdown",
   "metadata": {},
   "source": [
    "# Remarques\n",
    "Ce cours reprend des éléments des cours de <a href=\"https://github.com/alix-tz/Intro-algo\" target=\"_blank\">A. Chagué</a> et <a href=\"http://pise.info/algo/tests.htm\" target=\"_blank\">Ch. Darmangeat</a>"
   ]
  },
  {
   "cell_type": "code",
   "execution_count": null,
   "metadata": {},
   "outputs": [],
   "source": []
  }
 ],
 "metadata": {
  "kernelspec": {
   "display_name": "Python 3",
   "language": "python",
   "name": "python3"
  },
  "language_info": {
   "codemirror_mode": {
    "name": "ipython",
    "version": 3
   },
   "file_extension": ".py",
   "mimetype": "text/x-python",
   "name": "python",
   "nbconvert_exporter": "python",
   "pygments_lexer": "ipython3",
   "version": "3.7.1"
  }
 },
 "nbformat": 4,
 "nbformat_minor": 2
}
